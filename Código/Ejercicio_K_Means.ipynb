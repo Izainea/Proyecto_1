{
 "cells": [
  {
   "cell_type": "markdown",
   "metadata": {},
   "source": [
    "# Ejercicio Cluster"
   ]
  },
  {
   "cell_type": "markdown",
   "metadata": {
    "toc": true
   },
   "source": [
    "<h1>Table of Contents<span class=\"tocSkip\"></span></h1>\n",
    "<div class=\"toc\"><ul class=\"toc-item\"><li><span><a href=\"#Casos-de-Uso-de-K-Means\" data-toc-modified-id=\"Casos-de-Uso-de-K-Means-1\"><span class=\"toc-item-num\">1&nbsp;&nbsp;</span>Casos de Uso de K-Means</a></span></li><li><span><a href=\"#Ejercicio-Python-de-K-means\" data-toc-modified-id=\"Ejercicio-Python-de-K-means-2\"><span class=\"toc-item-num\">2&nbsp;&nbsp;</span>Ejercicio Python de K-means</a></span></li><li><span><a href=\"#Cargamos-los-datos-de-entrada-del-archivo-csv\" data-toc-modified-id=\"Cargamos-los-datos-de-entrada-del-archivo-csv-3\"><span class=\"toc-item-num\">3&nbsp;&nbsp;</span>Cargamos los datos de entrada del archivo csv</a></span></li><li><span><a href=\"#Visualizamos-los-datos\" data-toc-modified-id=\"Visualizamos-los-datos-4\"><span class=\"toc-item-num\">4&nbsp;&nbsp;</span>Visualizamos los datos</a></span></li><li><span><a href=\"#Creamos-el-modelo\" data-toc-modified-id=\"Creamos-el-modelo-5\"><span class=\"toc-item-num\">5&nbsp;&nbsp;</span>Creamos el modelo</a></span></li></ul></div>"
   ]
  },
  {
   "cell_type": "markdown",
   "metadata": {},
   "source": [
    "## Casos de Uso de K-Means\n",
    "\n",
    "*Tomado de: https://www.aprendemachinelearning.com/k-means-en-python-paso-a-paso/*\n",
    "\n",
    "El algoritmo de Clustering K-means es uno de los más usados para encontrar grupos ocultos, o sospechados en teoría sobre un conjunto de datos no etiquetado. Esto puede servir para confirmar -o desterrar- alguna teoría que teníamos asumida de nuestros datos. Y también puede ayudarnos a descubrir relaciones asombrosas entre conjuntos de datos, que de manera manual, no hubiéramos reconocido. Una vez que el algoritmo ha ejecutado y obtenido las etiquetas, será fácil clasificar nuevos valores o muestras entre los grupos obtenidos.\n",
    "\n",
    "Algunos casos de uso son:\n",
    "\n",
    "   * Segmentación por Comportamiento: relacionar el carrito de compras de un usuario, sus tiempos de acción e información del perfil.\n",
    "   * Categorización de Inventario: agrupar productos por actividad en sus ventas\n",
    "   * Detectar anomalías o actividades sospechosas: según el comportamiento en una web reconocer un troll -o un bot- de un usuario normal\n",
    "\n"
   ]
  },
  {
   "cell_type": "markdown",
   "metadata": {},
   "source": [
    "## Ejercicio Python de K-means\n",
    "Realizaremos un ejercicio de prueba para comprender como funciona este algoritmo"
   ]
  },
  {
   "cell_type": "code",
   "execution_count": 1,
   "metadata": {},
   "outputs": [],
   "source": [
    "import pandas as pd\n",
    "import numpy as np\n",
    "import matplotlib.pyplot as plt\n",
    "import seaborn as sb\n",
    "from sklearn.cluster import KMeans\n",
    "from sklearn.metrics import pairwise_distances_argmin_min\n",
    "\n",
    "%matplotlib inline\n",
    "from mpl_toolkits.mplot3d import Axes3D\n",
    "plt.rcParams['figure.figsize'] = (16, 9)\n",
    "plt.style.use('ggplot')"
   ]
  },
  {
   "cell_type": "markdown",
   "metadata": {},
   "source": [
    "Como ejemplo utilizaremos de entradas un conjunto de datos que obtuvo el autor, en el que se analizaban rasgos de la personalidad de usuarios de Twitter. El [autor](https://www.aprendemachinelearning.com/sobre-mi/) ha  filtrado a 140 “famosos” del mundo en diferentes areas: deporte, cantantes, actores, etc. Basado en una metodología de psicología conocida como “Ocean: The Big Five” tendemos como características de entrada:\n",
    "\n",
    "* usuario (el nombre en Twitter)\n",
    "*    “op” = Openness to experience – grado de apertura mental a nuevas experiencias, curiosidad, arte\n",
    "*   “co” =Conscientiousness – grado de orden, prolijidad, organización\n",
    "*    “ex” = Extraversion – grado de timidez, solitario o participación ante el grupo social\n",
    "*    “ag” = Agreeableness – grado de empatía con los demás, temperamento\n",
    "*    “ne” = Neuroticism, – grado de neuroticismo, nervioso, irritabilidad, seguridad en sí mismo.\n",
    "\n",
    "*    Wordcount – Cantidad promedio de palabras usadas en sus tweets\n",
    "*    Categoria – Actividad laboral del usuario (actor, cantante, etc.)\n",
    "\n",
    "Utilizaremos el algoritmo K-means para que agrupe estos usuarios -no por su actividad laboral- si no, por sus similitudes en la personalidad. "
   ]
  },
  {
   "cell_type": "markdown",
   "metadata": {},
   "source": [
    "En la siguiente base de datos las categoría que representan la actividad laborla de los famosos están codificados según el siguiente diccionario;\n",
    "```python\n",
    "{1:\"actores\", 2:\"cantantes\", 3:\"modelo\", 4:\"TV\", 5:\"radio\", 6:\"tecnología\", 7:\"deportes\", 8:\"politica\", 9:\"escritor\"}\n",
    "```"
   ]
  },
  {
   "cell_type": "markdown",
   "metadata": {},
   "source": [
    "## Cargamos los datos de entrada del archivo csv"
   ]
  },
  {
   "cell_type": "code",
   "execution_count": 3,
   "metadata": {},
   "outputs": [
    {
     "data": {
      "text/html": [
       "<div>\n",
       "<style scoped>\n",
       "    .dataframe tbody tr th:only-of-type {\n",
       "        vertical-align: middle;\n",
       "    }\n",
       "\n",
       "    .dataframe tbody tr th {\n",
       "        vertical-align: top;\n",
       "    }\n",
       "\n",
       "    .dataframe thead th {\n",
       "        text-align: right;\n",
       "    }\n",
       "</style>\n",
       "<table border=\"1\" class=\"dataframe\">\n",
       "  <thead>\n",
       "    <tr style=\"text-align: right;\">\n",
       "      <th></th>\n",
       "      <th>usuario</th>\n",
       "      <th>op</th>\n",
       "      <th>co</th>\n",
       "      <th>ex</th>\n",
       "      <th>ag</th>\n",
       "      <th>ne</th>\n",
       "      <th>wordcount</th>\n",
       "      <th>categoria</th>\n",
       "    </tr>\n",
       "  </thead>\n",
       "  <tbody>\n",
       "    <tr>\n",
       "      <th>0</th>\n",
       "      <td>3gerardpique</td>\n",
       "      <td>34.297953</td>\n",
       "      <td>28.148819</td>\n",
       "      <td>41.948819</td>\n",
       "      <td>29.370315</td>\n",
       "      <td>9.841575</td>\n",
       "      <td>37.0945</td>\n",
       "      <td>7</td>\n",
       "    </tr>\n",
       "    <tr>\n",
       "      <th>1</th>\n",
       "      <td>aguerosergiokun</td>\n",
       "      <td>44.986842</td>\n",
       "      <td>20.525865</td>\n",
       "      <td>37.938947</td>\n",
       "      <td>24.279098</td>\n",
       "      <td>10.362406</td>\n",
       "      <td>78.7970</td>\n",
       "      <td>7</td>\n",
       "    </tr>\n",
       "    <tr>\n",
       "      <th>2</th>\n",
       "      <td>albertochicote</td>\n",
       "      <td>41.733854</td>\n",
       "      <td>13.745417</td>\n",
       "      <td>38.999896</td>\n",
       "      <td>34.645521</td>\n",
       "      <td>8.836979</td>\n",
       "      <td>49.2604</td>\n",
       "      <td>4</td>\n",
       "    </tr>\n",
       "    <tr>\n",
       "      <th>3</th>\n",
       "      <td>AlejandroSanz</td>\n",
       "      <td>40.377154</td>\n",
       "      <td>15.377462</td>\n",
       "      <td>52.337538</td>\n",
       "      <td>31.082154</td>\n",
       "      <td>5.032231</td>\n",
       "      <td>80.4538</td>\n",
       "      <td>2</td>\n",
       "    </tr>\n",
       "    <tr>\n",
       "      <th>4</th>\n",
       "      <td>alfredocasero1</td>\n",
       "      <td>36.664677</td>\n",
       "      <td>19.642258</td>\n",
       "      <td>48.530806</td>\n",
       "      <td>31.138871</td>\n",
       "      <td>7.305968</td>\n",
       "      <td>47.0645</td>\n",
       "      <td>4</td>\n",
       "    </tr>\n",
       "    <tr>\n",
       "      <th>...</th>\n",
       "      <td>...</td>\n",
       "      <td>...</td>\n",
       "      <td>...</td>\n",
       "      <td>...</td>\n",
       "      <td>...</td>\n",
       "      <td>...</td>\n",
       "      <td>...</td>\n",
       "      <td>...</td>\n",
       "    </tr>\n",
       "    <tr>\n",
       "      <th>135</th>\n",
       "      <td>XabiAlonso</td>\n",
       "      <td>35.569389</td>\n",
       "      <td>22.133740</td>\n",
       "      <td>38.904885</td>\n",
       "      <td>31.624351</td>\n",
       "      <td>12.201221</td>\n",
       "      <td>47.5420</td>\n",
       "      <td>7</td>\n",
       "    </tr>\n",
       "    <tr>\n",
       "      <th>136</th>\n",
       "      <td>XaviRodriguez</td>\n",
       "      <td>31.960417</td>\n",
       "      <td>15.416979</td>\n",
       "      <td>48.533125</td>\n",
       "      <td>40.096458</td>\n",
       "      <td>11.764583</td>\n",
       "      <td>47.5625</td>\n",
       "      <td>4</td>\n",
       "    </tr>\n",
       "    <tr>\n",
       "      <th>137</th>\n",
       "      <td>xoellopez</td>\n",
       "      <td>71.696129</td>\n",
       "      <td>12.489274</td>\n",
       "      <td>27.571210</td>\n",
       "      <td>19.093548</td>\n",
       "      <td>3.241935</td>\n",
       "      <td>74.3065</td>\n",
       "      <td>2</td>\n",
       "    </tr>\n",
       "    <tr>\n",
       "      <th>138</th>\n",
       "      <td>ZacEfron</td>\n",
       "      <td>51.537405</td>\n",
       "      <td>26.009695</td>\n",
       "      <td>36.465344</td>\n",
       "      <td>23.008168</td>\n",
       "      <td>7.284962</td>\n",
       "      <td>118.6107</td>\n",
       "      <td>1</td>\n",
       "    </tr>\n",
       "    <tr>\n",
       "      <th>139</th>\n",
       "      <td>_josecoronado_</td>\n",
       "      <td>36.258913</td>\n",
       "      <td>18.769348</td>\n",
       "      <td>45.225652</td>\n",
       "      <td>39.427283</td>\n",
       "      <td>9.252065</td>\n",
       "      <td>113.7391</td>\n",
       "      <td>1</td>\n",
       "    </tr>\n",
       "  </tbody>\n",
       "</table>\n",
       "<p>140 rows × 8 columns</p>\n",
       "</div>"
      ],
      "text/plain": [
       "             usuario         op         co         ex         ag         ne  \\\n",
       "0       3gerardpique  34.297953  28.148819  41.948819  29.370315   9.841575   \n",
       "1    aguerosergiokun  44.986842  20.525865  37.938947  24.279098  10.362406   \n",
       "2     albertochicote  41.733854  13.745417  38.999896  34.645521   8.836979   \n",
       "3      AlejandroSanz  40.377154  15.377462  52.337538  31.082154   5.032231   \n",
       "4     alfredocasero1  36.664677  19.642258  48.530806  31.138871   7.305968   \n",
       "..               ...        ...        ...        ...        ...        ...   \n",
       "135       XabiAlonso  35.569389  22.133740  38.904885  31.624351  12.201221   \n",
       "136    XaviRodriguez  31.960417  15.416979  48.533125  40.096458  11.764583   \n",
       "137        xoellopez  71.696129  12.489274  27.571210  19.093548   3.241935   \n",
       "138         ZacEfron  51.537405  26.009695  36.465344  23.008168   7.284962   \n",
       "139   _josecoronado_  36.258913  18.769348  45.225652  39.427283   9.252065   \n",
       "\n",
       "     wordcount  categoria  \n",
       "0      37.0945          7  \n",
       "1      78.7970          7  \n",
       "2      49.2604          4  \n",
       "3      80.4538          2  \n",
       "4      47.0645          4  \n",
       "..         ...        ...  \n",
       "135    47.5420          7  \n",
       "136    47.5625          4  \n",
       "137    74.3065          2  \n",
       "138   118.6107          1  \n",
       "139   113.7391          1  \n",
       "\n",
       "[140 rows x 8 columns]"
      ]
     },
     "execution_count": 3,
     "metadata": {},
     "output_type": "execute_result"
    }
   ],
   "source": [
    "dataframe = pd.read_csv(\"../Datos/analisis.csv\")\n",
    "dataframe"
   ]
  },
  {
   "cell_type": "code",
   "execution_count": null,
   "metadata": {},
   "outputs": [],
   "source": [
    "dataframe.columns=[\"usuario\",\"Apertura Mental\",\"Escrupulosidad\",\"Extraversión\",\"Empatia\",\"Neuroticismo\",\"Cantidad de palabras\",\"Categoría\"]"
   ]
  },
  {
   "cell_type": "code",
   "execution_count": null,
   "metadata": {},
   "outputs": [],
   "source": [
    "dataframe[\"Categoría\"]=dataframe[\"Categoría\"].replace({1:\"actores\", 2:\"cantantes\", 3:\"modelo\", 4:\"TV\", 5:\"radio\", 6:\"tecnología\", 7:\"deportes\", 8:\"politica\", 9:\"escritor\"})"
   ]
  },
  {
   "cell_type": "code",
   "execution_count": null,
   "metadata": {},
   "outputs": [],
   "source": [
    "dataframe"
   ]
  },
  {
   "cell_type": "code",
   "execution_count": null,
   "metadata": {
    "scrolled": true
   },
   "outputs": [],
   "source": [
    "dataframe.describe()"
   ]
  },
  {
   "cell_type": "code",
   "execution_count": null,
   "metadata": {},
   "outputs": [],
   "source": [
    "#vemos cuantos usuarios hay de cada categoria\n",
    "dataframe.groupby('Categoría').size()"
   ]
  },
  {
   "cell_type": "markdown",
   "metadata": {},
   "source": [
    "## Visualizamos los datos"
   ]
  },
  {
   "cell_type": "markdown",
   "metadata": {},
   "source": [
    "Visualizaremos la distribución de cada rasgo psicológico en esta población."
   ]
  },
  {
   "cell_type": "code",
   "execution_count": null,
   "metadata": {},
   "outputs": [],
   "source": [
    "#Pintamos un histograma para cada una de las variables cuantitativas\n",
    "dataframe.drop(['Categoría'],1).hist()\n",
    "plt.show()"
   ]
  },
  {
   "cell_type": "code",
   "execution_count": null,
   "metadata": {},
   "outputs": [],
   "source": [
    "dataframe.drop(['Categoría'],1).boxplot()\n",
    "plt.show()"
   ]
  },
  {
   "cell_type": "code",
   "execution_count": null,
   "metadata": {
    "scrolled": true
   },
   "outputs": [],
   "source": [
    "sb.pairplot(dataframe.dropna(), hue='Categoría',height=4,vars=dataframe.columns[1:-1],kind='scatter')"
   ]
  },
  {
   "cell_type": "markdown",
   "metadata": {},
   "source": [
    "Hagamos componentes principales para tratar de disminuir la dimensionalidad de estos datos.\n",
    "\n",
    "*Nota: Evidentemente el gráfico muestra poca correlación entre variables, es posible que el PCA no sea provechoso*"
   ]
  },
  {
   "cell_type": "code",
   "execution_count": null,
   "metadata": {
    "scrolled": true
   },
   "outputs": [],
   "source": [
    "fig, ax = plt.subplots()\n",
    "s=sb.heatmap(pd.DataFrame(data=dataframe[dataframe.columns[1:-1]]).corr(),cmap='coolwarm', center=0,\n",
    "             linewidths=.5, cbar_kws={\"shrink\": .5},annot=True) \n",
    "s.set_yticklabels(s.get_yticklabels(),rotation=30,fontsize=7)\n",
    "s.set_xticklabels(s.get_xticklabels(),rotation=30,fontsize=7)\n",
    "ax.set_xlim(0,6)\n",
    "ax.set_ylim(0,6)\n",
    "plt.show()"
   ]
  },
  {
   "cell_type": "code",
   "execution_count": null,
   "metadata": {},
   "outputs": [],
   "source": [
    "import prince\n",
    "pca = prince.PCA(\n",
    "     n_components=6,\n",
    "     n_iter=3,\n",
    "     rescale_with_mean=True,\n",
    "     rescale_with_std=True,\n",
    "     copy=True,\n",
    "     check_input=True,\n",
    "     engine='auto',\n",
    "     random_state=42\n",
    " )\n",
    "pca = pca.fit(dataframe[dataframe.columns[1:-1]])"
   ]
  },
  {
   "cell_type": "code",
   "execution_count": null,
   "metadata": {},
   "outputs": [],
   "source": [
    "np.cumsum(pca.explained_inertia_)"
   ]
  },
  {
   "cell_type": "code",
   "execution_count": null,
   "metadata": {},
   "outputs": [],
   "source": [
    " ax = pca.plot_row_coordinates(\n",
    "     dataframe[dataframe.columns[1:-1]],\n",
    "     ax=None,\n",
    "     figsize=(6, 6),\n",
    "     x_component=0,\n",
    "     y_component=1,\n",
    "     labels=None,\n",
    "     color_labels=dataframe['Categoría'],\n",
    "     ellipse_outline=False,\n",
    "     ellipse_fill=False,\n",
    "     show_points=True\n",
    " )"
   ]
  },
  {
   "cell_type": "markdown",
   "metadata": {},
   "source": [
    "## Creamos el modelo"
   ]
  },
  {
   "cell_type": "code",
   "execution_count": null,
   "metadata": {},
   "outputs": [],
   "source": [
    "X = np.array(dataframe[dataframe.columns[1:-1]])\n",
    "y = np.array(dataframe['Categoría'])\n",
    "yu=np.array(dataframe['Categoría'].unique())\n",
    "X.shape"
   ]
  },
  {
   "cell_type": "code",
   "execution_count": null,
   "metadata": {},
   "outputs": [],
   "source": [
    "dicty={}\n",
    "for i in enumerate(yu):\n",
    "    dicty[i[1]]=i[0]\n",
    "dicty"
   ]
  },
  {
   "cell_type": "code",
   "execution_count": null,
   "metadata": {},
   "outputs": [],
   "source": [
    "fig = plt.figure()\n",
    "ax = Axes3D(fig)\n",
    "colores=['blue','red','green','blue','cyan','yellow','orange','black','pink','brown','purple']\n",
    "#NOTA: asignamos la posición cero del array repetida pues las categorias comienzan en id 1. \n",
    "asignar=[]\n",
    "for row in y:\n",
    "    asignar.append(colores[dicty[row]])\n",
    "ax.scatter(X[:, 0], X[:, 1], X[:, 2], c=asignar,s=60)"
   ]
  },
  {
   "cell_type": "markdown",
   "metadata": {},
   "source": [
    "# Buscamos el valor K"
   ]
  },
  {
   "cell_type": "code",
   "execution_count": null,
   "metadata": {
    "scrolled": true
   },
   "outputs": [],
   "source": [
    "Nc = range(1, 20)\n",
    "kmeans = [KMeans(n_clusters=i) for i in Nc]\n",
    "kmeans\n",
    "score = [kmeans[i].fit(X).score(X) for i in range(len(kmeans))]\n",
    "score\n",
    "plt.plot(Nc,score)\n",
    "plt.xlabel('Number of Clusters')\n",
    "plt.ylabel('Score')\n",
    "plt.title('Elbow Curve')\n",
    "plt.show()"
   ]
  },
  {
   "cell_type": "code",
   "execution_count": null,
   "metadata": {},
   "outputs": [],
   "source": [
    "# Para el ejercicio, elijo 3 como un buen valor de K. Pero podría ser otro.\n",
    "kmeans = KMeans(n_clusters=3).fit(X)\n",
    "centroids = kmeans.cluster_centers_\n",
    "print(centroids)"
   ]
  },
  {
   "cell_type": "code",
   "execution_count": null,
   "metadata": {
    "scrolled": true
   },
   "outputs": [],
   "source": [
    "# Obtenemos las etiquetas de cada punto de nuestros datos\n",
    "labels = kmeans.predict(X)\n",
    "# Obtenemos los centroids\n",
    "C = kmeans.cluster_centers_\n",
    "colores=['purple','red','blue']\n",
    "asignar=[]\n",
    "for row in labels:\n",
    "    asignar.append(colores[row])\n",
    "\n",
    "fig = plt.figure()\n",
    "ax = Axes3D(fig)\n",
    "ax.scatter(X[:, 0], X[:, 1], X[:, 5], c=asignar,s=60)\n",
    "ax.scatter(C[:, 0], C[:, 1], C[:, 5], marker='*', c=colores, s=1000)"
   ]
  },
  {
   "cell_type": "code",
   "execution_count": null,
   "metadata": {},
   "outputs": [],
   "source": [
    "C[:,5]"
   ]
  },
  {
   "cell_type": "code",
   "execution_count": null,
   "metadata": {},
   "outputs": [],
   "source": [
    " ax = pca.plot_row_coordinates(\n",
    "     dataframe[dataframe.columns[1:-1]],\n",
    "     ax=None,\n",
    "     figsize=(6, 6),\n",
    "     x_component=0,\n",
    "     y_component=1,\n",
    "     labels=None,\n",
    "     color_labels=asignar,\n",
    "     ellipse_outline=False,\n",
    "     ellipse_fill=False,\n",
    "     show_points=True\n",
    " )"
   ]
  },
  {
   "cell_type": "code",
   "execution_count": null,
   "metadata": {},
   "outputs": [],
   "source": [
    "# Hacemos una proyección a 2D con los diversos ejes \n",
    "f1 = dataframe['Apertura Mental'].values\n",
    "f2 = dataframe['Extraversión'].values\n",
    "\n",
    "plt.scatter(f1, f2, c=asignar, s=70)\n",
    "plt.scatter(C[:, 0], C[:, 2], marker='*', c=colores, s=1000)\n",
    "plt.show()"
   ]
  },
  {
   "cell_type": "code",
   "execution_count": null,
   "metadata": {},
   "outputs": [],
   "source": [
    "dataframe"
   ]
  },
  {
   "cell_type": "code",
   "execution_count": null,
   "metadata": {},
   "outputs": [],
   "source": [
    "# Hacemos una proyección a 2D con los diversos ejes \n",
    "f1 = dataframe['Apertura Mental'].values\n",
    "f2 = dataframe['Extraversión'].values\n",
    "\n",
    "plt.scatter(f1, f2, c=asignar, s=70)\n",
    "plt.scatter(C[:, 0], C[:, 2], marker='*', c=colores, s=1000)\n",
    "plt.show()"
   ]
  },
  {
   "cell_type": "code",
   "execution_count": null,
   "metadata": {},
   "outputs": [],
   "source": [
    "f1 = dataframe['Extraversión'].values\n",
    "f2 = dataframe['Empatia'].values\n",
    "\n",
    "'''\n",
    "# este codigo comentado agrega las categorias sobre cada punto\n",
    "for label, x, y in zip(dataframe['categoria'].values, f1, f2):\n",
    "    plt.annotate(\n",
    "        label,\n",
    "        xy=(x, y), xytext=(-10, 10),\n",
    "        textcoords='offset points', ha='right', va='bottom',\n",
    "        bbox=dict(boxstyle='round,pad=0.5', fc='yellow', alpha=0.5),\n",
    "        arrowprops=dict(arrowstyle = '->', connectionstyle='arc3,rad=0'))\n",
    "'''\n",
    "plt.scatter(f1, f2, c=asignar, s=70)\n",
    "plt.scatter(C[:, 2], C[:, 3], marker='*', c=colores, s=1000)\n",
    "plt.show()"
   ]
  },
  {
   "cell_type": "code",
   "execution_count": null,
   "metadata": {},
   "outputs": [],
   "source": [
    "# contamos cuantos usuarios hay en cada grupo\n",
    "copy =  pd.DataFrame()\n",
    "copy['usuario']=dataframe['usuario'].values\n",
    "copy['categoria']=dataframe['Categoría'].values\n",
    "copy['label'] = labels;\n",
    "cantidadGrupo =  pd.DataFrame()\n",
    "cantidadGrupo['color']=colores\n",
    "cantidadGrupo['cantidad']=copy.groupby('label').size()\n",
    "cantidadGrupo"
   ]
  },
  {
   "cell_type": "code",
   "execution_count": null,
   "metadata": {},
   "outputs": [],
   "source": [
    "!pip install tabulate"
   ]
  },
  {
   "cell_type": "code",
   "execution_count": null,
   "metadata": {
    "scrolled": true
   },
   "outputs": [],
   "source": [
    "from IPython.core.display import display,Markdown\n",
    "# Veamos cuantos usuarios en cada categoria\n",
    "for i in range(5):\n",
    "    group_referrer_index = copy['label'] ==i\n",
    "    group_referrals = copy[group_referrer_index]\n",
    "    diversidadGrupo =  pd.DataFrame()\n",
    "    diversidadGrupo['cantidad']=group_referrals.groupby('categoria').size()\n",
    "    display(Markdown(diversidadGrupo.to_markdown()))\n",
    "    print()"
   ]
  },
  {
   "cell_type": "code",
   "execution_count": null,
   "metadata": {},
   "outputs": [],
   "source": [
    "#vemos el representante del grupo, el usuario cercano a su centroid\n",
    "closest, _ = pairwise_distances_argmin_min(kmeans.cluster_centers_, X)\n",
    "closest"
   ]
  },
  {
   "cell_type": "code",
   "execution_count": null,
   "metadata": {},
   "outputs": [],
   "source": [
    "#Los usuarios más cercanos al centroide\n",
    "users=dataframe['usuario'].values\n",
    "for row in closest:\n",
    "    print(users[row])"
   ]
  },
  {
   "cell_type": "code",
   "execution_count": null,
   "metadata": {},
   "outputs": [],
   "source": [
    "from IPython.core.display import display, HTML"
   ]
  },
  {
   "cell_type": "code",
   "execution_count": null,
   "metadata": {},
   "outputs": [],
   "source": [
    "#miramos los usuarios de cada grupo\n",
    "text=\"<table><tr> <td> Grupo 0</td><td> Grupo 1</td><td> Grupo 2</td><td> Grupo 3</td><td> Grupo 4</td></tr><tr>\"\n",
    "for i in range(5):\n",
    "    text+=\"<td>\"\n",
    "    for index, row in copy.iterrows():\n",
    "        if row[\"label\"] == i:\n",
    "            text+=\"<p>\"+ row[\"usuario\"]+\" \" +row[\"categoria\"]+\"</p>\"\n",
    "    text+=\"</td>\"\n",
    "text+=\"</tr></table>\"\n",
    "display(HTML(text))\n",
    "\n",
    "        "
   ]
  },
  {
   "cell_type": "markdown",
   "metadata": {},
   "source": [
    "# Clasificación de nuevos registros"
   ]
  },
  {
   "cell_type": "code",
   "execution_count": null,
   "metadata": {},
   "outputs": [],
   "source": [
    "X_new = np.array([[45.92,57.74,15.66,12.11,97,89.9]]) #davidguetta personality traits\n",
    "new_labels = kmeans.predict(X_new)\n",
    "print(new_labels)\n",
    "\n",
    "#NOTA: en el array podemos poner más de un array para evaluar a varios usuarios nuevos a la vez"
   ]
  },
  {
   "cell_type": "markdown",
   "metadata": {},
   "source": [
    "NOTA FINAL: Los resultados obtenidos pueden varias de ejecución en ejecución pues al inicializar aleatoriamente los centroids, podemos obtener grupos distintos o los mismos pero en distinto orden y color"
   ]
  }
 ],
 "metadata": {
  "kernelspec": {
   "display_name": "Python 3",
   "language": "python",
   "name": "python3"
  },
  "language_info": {
   "codemirror_mode": {
    "name": "ipython",
    "version": 3
   },
   "file_extension": ".py",
   "mimetype": "text/x-python",
   "name": "python",
   "nbconvert_exporter": "python",
   "pygments_lexer": "ipython3",
   "version": "3.11.5"
  },
  "toc": {
   "base_numbering": 1,
   "nav_menu": {},
   "number_sections": true,
   "sideBar": true,
   "skip_h1_title": true,
   "title_cell": "Table of Contents",
   "title_sidebar": "Contents",
   "toc_cell": true,
   "toc_position": {},
   "toc_section_display": true,
   "toc_window_display": false
  }
 },
 "nbformat": 4,
 "nbformat_minor": 4
}
