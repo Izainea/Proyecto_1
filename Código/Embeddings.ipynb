{
 "cells": [
  {
   "cell_type": "code",
   "execution_count": 4,
   "metadata": {},
   "outputs": [],
   "source": [
    "from ucimlrepo import fetch_ucirepo \n",
    "  \n",
    "# fetch dataset \n",
    "adult = fetch_ucirepo(id=2) \n",
    "  \n",
    "# data (as pandas dataframes) \n",
    "X = adult.data.features \n",
    "y = adult.data.targets "
   ]
  },
  {
   "cell_type": "code",
   "execution_count": 8,
   "metadata": {},
   "outputs": [],
   "source": [
    "import pandas as pd\n",
    "df=pd.DataFrame(X)"
   ]
  },
  {
   "cell_type": "code",
   "execution_count": 11,
   "metadata": {},
   "outputs": [
    {
     "data": {
      "text/plain": [
       "10"
      ]
     },
     "execution_count": 11,
     "metadata": {},
     "output_type": "execute_result"
    }
   ],
   "source": [
    "len(df['workclass'].fillna('Desconocido').unique())"
   ]
  },
  {
   "cell_type": "code",
   "execution_count": 7,
   "metadata": {},
   "outputs": [
    {
     "data": {
      "text/plain": [
       "Index(['workclass', 'education', 'marital-status', 'occupation',\n",
       "       'relationship', 'race', 'sex', 'native-country'],\n",
       "      dtype='object')"
      ]
     },
     "execution_count": 7,
     "metadata": {},
     "output_type": "execute_result"
    }
   ],
   "source": [
    "categorical_columns=X.select_dtypes(include='object').columns\n",
    "categorical_columns"
   ]
  },
  {
   "cell_type": "code",
   "execution_count": 13,
   "metadata": {},
   "outputs": [
    {
     "data": {
      "text/plain": [
       "[10, 16, 7, 16, 6, 5, 2, 43]"
      ]
     },
     "execution_count": 13,
     "metadata": {},
     "output_type": "execute_result"
    }
   ],
   "source": [
    "import numpy as np\n",
    "import tensorflow as tf\n",
    "from tensorflow.keras.layers import Embedding, Input, Flatten\n",
    "from tensorflow.keras.models import Model\n",
    "\n",
    "inputs_var=[]\n",
    "num_cat=[]\n",
    "for col_cat in categorical_columns:\n",
    "    input_var_temp=Input(shape=(1,))\n",
    "    inputs_var.append(input_var_temp)\n",
    "    cant_cat=len(df[col_cat].fillna('Desconocido').unique())\n",
    "    num_cat.append(cant_cat)\n",
    "    \n",
    "num_cat"
   ]
  },
  {
   "cell_type": "code",
   "execution_count": null,
   "metadata": {},
   "outputs": [],
   "source": [
    "\n",
    "\n",
    "\n",
    "\n",
    "# Definir las entradas para cada variable categórica\n",
    "input_var1 = Input(shape=(1,))\n",
    "input_var2 = Input(shape=(1,))\n",
    "input_var3 = Input(shape=(1,))\n",
    "\n",
    "# Crear una capa de incrustación para cada variable categórica\n",
    "embedding_var1 = Embedding(input_dim=num_categories_var1, output_dim=4)(input_var1)\n",
    "embedding_var2 = Embedding(input_dim=num_categories_var2, output_dim=4)(input_var2)\n",
    "embedding_var3 = Embedding(input_dim=num_categories_var3, output_dim=4)(input_var3)\n",
    "\n",
    "# Aplanar las salidas de las incrustaciones para poder concatenarlas si es necesario\n",
    "embedding_var1_flat = Flatten()(embedding_var1)\n",
    "embedding_var2_flat = Flatten()(embedding_var2)\n",
    "embedding_var3_flat = Flatten()(embedding_var3)\n",
    "\n",
    "# Crear un modelo de ejemplo que solo sirve para ilustrar la creación de embeddings\n",
    "model = Model(inputs=[input_var1, input_var2, input_var3], outputs=[embedding_var1_flat, embedding_var2_flat, embedding_var3_flat])\n",
    "\n",
    "# Resumen del modelo\n",
    "model.summary()\n"
   ]
  },
  {
   "cell_type": "code",
   "execution_count": 15,
   "metadata": {},
   "outputs": [
    {
     "name": "stdout",
     "output_type": "stream",
     "text": [
      "Model: \"model_1\"\n",
      "_________________________________________________________________\n",
      " Layer (type)                Output Shape              Param #   \n",
      "=================================================================\n",
      " input_18 (InputLayer)       [(None, 1)]               0         \n",
      "                                                                 \n",
      " embedding_1 (Embedding)     (None, 1, 2)              20        \n",
      "                                                                 \n",
      " flatten_1 (Flatten)         (None, 2)                 0         \n",
      "                                                                 \n",
      "=================================================================\n",
      "Total params: 20 (80.00 Byte)\n",
      "Trainable params: 20 (80.00 Byte)\n",
      "Non-trainable params: 0 (0.00 Byte)\n",
      "_________________________________________________________________\n"
     ]
    }
   ],
   "source": [
    "import numpy as np\n",
    "import tensorflow as tf\n",
    "from tensorflow.keras.layers import Embedding\n",
    "from tensorflow.keras.models import Sequential\n",
    "\n",
    "# Número de categorías únicas\n",
    "num_unique_categories = 10\n",
    "# Dimensión deseada para los vectores de incrustación\n",
    "embedding_dim = 2\n",
    "\n",
    "input_var=Input(shape=(1,))\n",
    "embedding_var = Embedding(input_dim=num_unique_categories, output_dim=embedding_dim)(input_var)\n",
    "\n",
    "embedding_var_flat = Flatten()(embedding_var)\n",
    "\n",
    "# Crear un modelo de ejemplo que solo sirve para ilustrar la creación de embeddings\n",
    "model = Model(inputs=[input_var], \n",
    "              outputs=[embedding_var_flat])\n",
    "\n",
    "# Resumen del modelo\n",
    "model.summary()\n"
   ]
  },
  {
   "cell_type": "code",
   "execution_count": 18,
   "metadata": {},
   "outputs": [
    {
     "name": "stdout",
     "output_type": "stream",
     "text": [
      "1527/1527 [==============================] - 1s 603us/step\n"
     ]
    },
    {
     "data": {
      "text/plain": [
       "array([[ 0.02941727, -0.01578633],\n",
       "       [-0.02410465,  0.00894975],\n",
       "       [ 0.0196127 , -0.0441796 ],\n",
       "       ...,\n",
       "       [ 0.0196127 , -0.0441796 ],\n",
       "       [ 0.0196127 , -0.0441796 ],\n",
       "       [ 0.03259477, -0.02859756]], dtype=float32)"
      ]
     },
     "execution_count": 18,
     "metadata": {},
     "output_type": "execute_result"
    }
   ],
   "source": [
    "from sklearn.preprocessing import LabelEncoder\n",
    "\n",
    "le=LabelEncoder()\n",
    "le.fit(df['workclass'])\n",
    "code_label=le.transform(df['workclass'])\n",
    "\n",
    "model.predict(code_label)"
   ]
  },
  {
   "cell_type": "code",
   "execution_count": 22,
   "metadata": {},
   "outputs": [
    {
     "name": "stdout",
     "output_type": "stream",
     "text": [
      "1527/1527 [==============================] - 1s 605us/step\n"
     ]
    },
    {
     "data": {
      "text/plain": [
       "array([[-0.04766003, -0.02391441],\n",
       "       [-0.04603465,  0.00829161],\n",
       "       [-0.04038285,  0.01254353],\n",
       "       [-0.02410465,  0.00894975],\n",
       "       [-0.01577254, -0.01334681],\n",
       "       [-0.01189471,  0.03719584],\n",
       "       [ 0.00079622, -0.02576407],\n",
       "       [ 0.0196127 , -0.0441796 ],\n",
       "       [ 0.02941727, -0.01578633],\n",
       "       [ 0.03259477, -0.02859756]], dtype=float32)"
      ]
     },
     "execution_count": 22,
     "metadata": {},
     "output_type": "execute_result"
    }
   ],
   "source": [
    "np.unique(model.predict(code_label),axis=0)"
   ]
  },
  {
   "cell_type": "code",
   "execution_count": null,
   "metadata": {},
   "outputs": [],
   "source": []
  }
 ],
 "metadata": {
  "kernelspec": {
   "display_name": "base",
   "language": "python",
   "name": "python3"
  },
  "language_info": {
   "codemirror_mode": {
    "name": "ipython",
    "version": 3
   },
   "file_extension": ".py",
   "mimetype": "text/x-python",
   "name": "python",
   "nbconvert_exporter": "python",
   "pygments_lexer": "ipython3",
   "version": "3.11.5"
  }
 },
 "nbformat": 4,
 "nbformat_minor": 2
}
