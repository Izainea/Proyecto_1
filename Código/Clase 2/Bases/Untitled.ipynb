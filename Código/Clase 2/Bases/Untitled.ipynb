{
 "cells": [
  {
   "cell_type": "code",
   "execution_count": 1,
   "id": "6962ed3f-d20d-4326-a6be-fc0946953437",
   "metadata": {},
   "outputs": [],
   "source": [
    "library('sjstats')\n"
   ]
  },
  {
   "cell_type": "code",
   "execution_count": 6,
   "id": "50515ad8-f4d0-4392-82bb-4f944a1db440",
   "metadata": {},
   "outputs": [
    {
     "data": {
      "text/plain": [
       "v\n",
       "1 2 3 4 \n",
       "6 2 5 7 "
      ]
     },
     "metadata": {},
     "output_type": "display_data"
    },
    {
     "data": {
      "text/plain": [
       "w\n",
       "0.0280021587806661 0.0392400027331692  0.135054603880824  0.153253338211898 \n",
       "                 1                  1                  1                  1 \n",
       " 0.188792299514343  0.341119691424425  0.367221476466509  0.398105880367068 \n",
       "                 1                  1                  1                  1 \n",
       " 0.569719627442413  0.612026393250771  0.689739362450777  0.743273208882405 \n",
       "                 1                  1                  1                  1 \n",
       " 0.881107726454215   1.04413462631653   1.12936309608079   1.43302370170104 \n",
       "                 1                  1                  1                  1 \n",
       "  1.46555486156289   1.80495862889104   1.98039989850586   2.40161776050478 \n",
       "                 1                  1                  1                  1 "
      ]
     },
     "metadata": {},
     "output_type": "display_data"
    },
    {
     "data": {
      "text/plain": [
       "\n",
       "1 2 3 4 \n",
       "6 1 4 5 "
      ]
     },
     "metadata": {},
     "output_type": "display_data"
    },
    {
     "data": {
      "text/plain": [
       "\n",
       "1 2 3 4 \n",
       "6 1 4 5 "
      ]
     },
     "metadata": {},
     "output_type": "display_data"
    },
    {
     "data": {
      "text/plain": [
       "x\n",
       "a b c d e \n",
       "6 4 3 1 6 "
      ]
     },
     "metadata": {},
     "output_type": "display_data"
    },
    {
     "data": {
      "text/plain": [
       "w\n",
       "0.023331202333793 0.107943625887856 0.186217601411045  0.34034899668768 \n",
       "                1                 1                 1                 1 \n",
       "0.411274429643527 0.477230065036565 0.482080115471035 0.493541307048872 \n",
       "                1                 1                 1                 1 \n",
       "0.529719580197707 0.553036311641335 0.599565825425088 0.647060193819925 \n",
       "                1                 1                 1                 1 \n",
       "0.668466738192365 0.723710946040228  0.78293276228942 0.789356231689453 \n",
       "                1                 1                 1                 1 \n",
       " 0.79423986072652 0.820946294115856 0.827373318606988  0.86969084572047 \n",
       "                1                 1                 1                 1 "
      ]
     },
     "metadata": {},
     "output_type": "display_data"
    },
    {
     "data": {
      "text/plain": [
       "\n",
       "a b c e \n",
       "3 3 2 3 "
      ]
     },
     "metadata": {},
     "output_type": "display_data"
    }
   ],
   "source": [
    "v <- sample(1:4, 20, TRUE)\n",
    "table(v)\n",
    "w <- abs(rnorm(20))\n",
    "table(w)\n",
    "table(weight(v, w))\n",
    "table(weight2(v, w))\n",
    "\n",
    "set.seed(1)\n",
    "x <- sample(letters[1:5], size = 20, replace = TRUE)\n",
    "w <- runif(n = 20)\n",
    "\n",
    "table(x)\n",
    "table(w)\n",
    "table(weight(x, w))"
   ]
  },
  {
   "cell_type": "code",
   "execution_count": null,
   "id": "3d8748e8-a5f5-465f-979f-f444f79eb4e9",
   "metadata": {},
   "outputs": [],
   "source": []
  }
 ],
 "metadata": {
  "kernelspec": {
   "display_name": "R",
   "language": "R",
   "name": "ir"
  },
  "language_info": {
   "codemirror_mode": "r",
   "file_extension": ".r",
   "mimetype": "text/x-r-source",
   "name": "R",
   "pygments_lexer": "r",
   "version": "4.1.1"
  }
 },
 "nbformat": 4,
 "nbformat_minor": 5
}
