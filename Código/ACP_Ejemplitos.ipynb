{
 "cells": [
  {
   "cell_type": "markdown",
   "metadata": {},
   "source": [
    "# Ejemplos ACP"
   ]
  },
  {
   "cell_type": "markdown",
   "metadata": {
    "colab_type": "text",
    "id": "kiGshKKAiCn5"
   },
   "source": [
    "**EJEMPLO 1** \n",
    "\n",
    "Iniciaremos con un ejercicio sencillo para una base de dos variables. Simularemos datos:\n"
   ]
  },
  {
   "cell_type": "code",
   "execution_count": 1,
   "metadata": {
    "colab": {},
    "colab_type": "code",
    "id": "k1wFshrmh0_f"
   },
   "outputs": [],
   "source": [
    "import numpy as np\n",
    "import pandas as pd\n",
    "\n",
    "from sklearn.decomposition import PCA\n",
    "from sklearn.preprocessing import StandardScaler\n"
   ]
  },
  {
   "cell_type": "code",
   "execution_count": 2,
   "metadata": {
    "colab": {},
    "colab_type": "code",
    "id": "aGc90luSieC9"
   },
   "outputs": [],
   "source": [
    "x=100*np.random.random_sample(50)"
   ]
  },
  {
   "cell_type": "code",
   "execution_count": 3,
   "metadata": {},
   "outputs": [
    {
     "data": {
      "text/plain": [
       "array([32.55344916, 87.80339196, 27.62835162, 83.42820665,  2.47886247,\n",
       "       37.12133523,  3.06051472, 44.38413178, 19.28248084, 20.28018412,\n",
       "       96.02281611, 91.04811347,  5.70125869, 57.58555785, 91.69575076,\n",
       "       74.02274389, 88.71262479, 96.60746386, 13.75900287, 26.65291621,\n",
       "       33.16934736, 43.08327336,  2.17755833,  9.31096043, 85.63833478,\n",
       "       83.50171158, 66.73677159, 37.19359349, 80.45679721, 93.35795184,\n",
       "       76.50069484, 37.39884148, 59.52376024, 23.57805599, 23.15702748,\n",
       "       96.7233503 , 58.54969236,  8.18534744, 59.50509348, 27.49434781,\n",
       "       84.34865572, 48.78231842, 10.8807476 ,  3.35021796,  8.64073796,\n",
       "       90.14225924, 44.0522275 , 63.50289761, 45.38733715, 76.05563326])"
      ]
     },
     "execution_count": 3,
     "metadata": {},
     "output_type": "execute_result"
    }
   ],
   "source": [
    "x"
   ]
  },
  {
   "cell_type": "code",
   "execution_count": 4,
   "metadata": {
    "colab": {},
    "colab_type": "code",
    "id": "vLrPNVXSizJ2"
   },
   "outputs": [],
   "source": [
    "y=-2*x+200 +30*np.random.random_sample(50)"
   ]
  },
  {
   "cell_type": "code",
   "execution_count": 5,
   "metadata": {},
   "outputs": [],
   "source": [
    "x1=np.arange(0,100,0.1)"
   ]
  },
  {
   "cell_type": "code",
   "execution_count": 6,
   "metadata": {},
   "outputs": [],
   "source": [
    "y1=-2*x1+200"
   ]
  },
  {
   "cell_type": "code",
   "execution_count": 10,
   "metadata": {
    "colab": {},
    "colab_type": "code",
    "id": "wWCI2uvOjB_v"
   },
   "outputs": [],
   "source": [
    "import matplotlib.pyplot as plt"
   ]
  },
  {
   "cell_type": "code",
   "execution_count": 11,
   "metadata": {
    "colab": {
     "base_uri": "https://localhost:8080/",
     "height": 295
    },
    "colab_type": "code",
    "id": "eoF5wRjYjKS9",
    "outputId": "534671e0-2a0f-4b4c-c846-afa8f9b94c5b"
   },
   "outputs": [
    {
     "data": {
      "image/png": "[encoded data removed]",
      "text/plain": [
       "<Figure size 640x480 with 1 Axes>"
      ]
     },
     "metadata": {},
     "output_type": "display_data"
    }
   ],
   "source": [
    "plt.scatter(x, y, s=10, c='red', alpha=0.5)\n",
    "plt.plot(x1,y1)\n",
    "plt.title('Ejercicio 1')\n",
    "plt.xlabel('x')\n",
    "plt.ylabel('y')\n",
    "plt.show()\n"
   ]
  },
  {
   "cell_type": "code",
   "execution_count": 12,
   "metadata": {
    "colab": {
     "base_uri": "https://localhost:8080/",
     "height": 295
    },
    "colab_type": "code",
    "id": "LRAKFj-cjPWl",
    "outputId": "6387b117-dcab-49d9-ebcb-5622f2dc8c5f"
   },
   "outputs": [
    {
     "data": {
      "text/html": [
       "<div>\n",
       "<style scoped>\n",
       "    .dataframe tbody tr th:only-of-type {\n",
       "        vertical-align: middle;\n",
       "    }\n",
       "\n",
       "    .dataframe tbody tr th {\n",
       "        vertical-align: top;\n",
       "    }\n",
       "\n",
       "    .dataframe thead th {\n",
       "        text-align: right;\n",
       "    }\n",
       "</style>\n",
       "<table border=\"1\" class=\"dataframe\">\n",
       "  <thead>\n",
       "    <tr style=\"text-align: right;\">\n",
       "      <th></th>\n",
       "      <th>x</th>\n",
       "      <th>y</th>\n",
       "    </tr>\n",
       "  </thead>\n",
       "  <tbody>\n",
       "    <tr>\n",
       "      <th>0</th>\n",
       "      <td>32.553449</td>\n",
       "      <td>143.171647</td>\n",
       "    </tr>\n",
       "    <tr>\n",
       "      <th>1</th>\n",
       "      <td>87.803392</td>\n",
       "      <td>38.933584</td>\n",
       "    </tr>\n",
       "    <tr>\n",
       "      <th>2</th>\n",
       "      <td>27.628352</td>\n",
       "      <td>148.190204</td>\n",
       "    </tr>\n",
       "    <tr>\n",
       "      <th>3</th>\n",
       "      <td>83.428207</td>\n",
       "      <td>45.144230</td>\n",
       "    </tr>\n",
       "    <tr>\n",
       "      <th>4</th>\n",
       "      <td>2.478862</td>\n",
       "      <td>219.941308</td>\n",
       "    </tr>\n",
       "    <tr>\n",
       "      <th>5</th>\n",
       "      <td>37.121335</td>\n",
       "      <td>150.516623</td>\n",
       "    </tr>\n",
       "    <tr>\n",
       "      <th>6</th>\n",
       "      <td>3.060515</td>\n",
       "      <td>219.233345</td>\n",
       "    </tr>\n",
       "    <tr>\n",
       "      <th>7</th>\n",
       "      <td>44.384132</td>\n",
       "      <td>128.948901</td>\n",
       "    </tr>\n",
       "    <tr>\n",
       "      <th>8</th>\n",
       "      <td>19.282481</td>\n",
       "      <td>172.736321</td>\n",
       "    </tr>\n",
       "    <tr>\n",
       "      <th>9</th>\n",
       "      <td>20.280184</td>\n",
       "      <td>180.712664</td>\n",
       "    </tr>\n",
       "    <tr>\n",
       "      <th>10</th>\n",
       "      <td>96.022816</td>\n",
       "      <td>33.257722</td>\n",
       "    </tr>\n",
       "    <tr>\n",
       "      <th>11</th>\n",
       "      <td>91.048113</td>\n",
       "      <td>24.225097</td>\n",
       "    </tr>\n",
       "    <tr>\n",
       "      <th>12</th>\n",
       "      <td>5.701259</td>\n",
       "      <td>193.077911</td>\n",
       "    </tr>\n",
       "    <tr>\n",
       "      <th>13</th>\n",
       "      <td>57.585558</td>\n",
       "      <td>113.536307</td>\n",
       "    </tr>\n",
       "    <tr>\n",
       "      <th>14</th>\n",
       "      <td>91.695751</td>\n",
       "      <td>32.853426</td>\n",
       "    </tr>\n",
       "    <tr>\n",
       "      <th>15</th>\n",
       "      <td>74.022744</td>\n",
       "      <td>58.072037</td>\n",
       "    </tr>\n",
       "    <tr>\n",
       "      <th>16</th>\n",
       "      <td>88.712625</td>\n",
       "      <td>50.302610</td>\n",
       "    </tr>\n",
       "    <tr>\n",
       "      <th>17</th>\n",
       "      <td>96.607464</td>\n",
       "      <td>30.916305</td>\n",
       "    </tr>\n",
       "    <tr>\n",
       "      <th>18</th>\n",
       "      <td>13.759003</td>\n",
       "      <td>193.208249</td>\n",
       "    </tr>\n",
       "    <tr>\n",
       "      <th>19</th>\n",
       "      <td>26.652916</td>\n",
       "      <td>157.978387</td>\n",
       "    </tr>\n",
       "    <tr>\n",
       "      <th>20</th>\n",
       "      <td>33.169347</td>\n",
       "      <td>157.921791</td>\n",
       "    </tr>\n",
       "    <tr>\n",
       "      <th>21</th>\n",
       "      <td>43.083273</td>\n",
       "      <td>131.222552</td>\n",
       "    </tr>\n",
       "    <tr>\n",
       "      <th>22</th>\n",
       "      <td>2.177558</td>\n",
       "      <td>199.870593</td>\n",
       "    </tr>\n",
       "    <tr>\n",
       "      <th>23</th>\n",
       "      <td>9.310960</td>\n",
       "      <td>190.411017</td>\n",
       "    </tr>\n",
       "    <tr>\n",
       "      <th>24</th>\n",
       "      <td>85.638335</td>\n",
       "      <td>28.810118</td>\n",
       "    </tr>\n",
       "    <tr>\n",
       "      <th>25</th>\n",
       "      <td>83.501712</td>\n",
       "      <td>46.226968</td>\n",
       "    </tr>\n",
       "    <tr>\n",
       "      <th>26</th>\n",
       "      <td>66.736772</td>\n",
       "      <td>70.897657</td>\n",
       "    </tr>\n",
       "    <tr>\n",
       "      <th>27</th>\n",
       "      <td>37.193593</td>\n",
       "      <td>134.650694</td>\n",
       "    </tr>\n",
       "    <tr>\n",
       "      <th>28</th>\n",
       "      <td>80.456797</td>\n",
       "      <td>61.941329</td>\n",
       "    </tr>\n",
       "    <tr>\n",
       "      <th>29</th>\n",
       "      <td>93.357952</td>\n",
       "      <td>34.077541</td>\n",
       "    </tr>\n",
       "    <tr>\n",
       "      <th>30</th>\n",
       "      <td>76.500695</td>\n",
       "      <td>48.975583</td>\n",
       "    </tr>\n",
       "    <tr>\n",
       "      <th>31</th>\n",
       "      <td>37.398841</td>\n",
       "      <td>135.175656</td>\n",
       "    </tr>\n",
       "    <tr>\n",
       "      <th>32</th>\n",
       "      <td>59.523760</td>\n",
       "      <td>95.579482</td>\n",
       "    </tr>\n",
       "    <tr>\n",
       "      <th>33</th>\n",
       "      <td>23.578056</td>\n",
       "      <td>163.109479</td>\n",
       "    </tr>\n",
       "    <tr>\n",
       "      <th>34</th>\n",
       "      <td>23.157027</td>\n",
       "      <td>156.810999</td>\n",
       "    </tr>\n",
       "    <tr>\n",
       "      <th>35</th>\n",
       "      <td>96.723350</td>\n",
       "      <td>24.954006</td>\n",
       "    </tr>\n",
       "    <tr>\n",
       "      <th>36</th>\n",
       "      <td>58.549692</td>\n",
       "      <td>96.611793</td>\n",
       "    </tr>\n",
       "    <tr>\n",
       "      <th>37</th>\n",
       "      <td>8.185347</td>\n",
       "      <td>200.419172</td>\n",
       "    </tr>\n",
       "    <tr>\n",
       "      <th>38</th>\n",
       "      <td>59.505093</td>\n",
       "      <td>89.617387</td>\n",
       "    </tr>\n",
       "    <tr>\n",
       "      <th>39</th>\n",
       "      <td>27.494348</td>\n",
       "      <td>172.556017</td>\n",
       "    </tr>\n",
       "    <tr>\n",
       "      <th>40</th>\n",
       "      <td>84.348656</td>\n",
       "      <td>31.309936</td>\n",
       "    </tr>\n",
       "    <tr>\n",
       "      <th>41</th>\n",
       "      <td>48.782318</td>\n",
       "      <td>103.391207</td>\n",
       "    </tr>\n",
       "    <tr>\n",
       "      <th>42</th>\n",
       "      <td>10.880748</td>\n",
       "      <td>186.150502</td>\n",
       "    </tr>\n",
       "    <tr>\n",
       "      <th>43</th>\n",
       "      <td>3.350218</td>\n",
       "      <td>222.454282</td>\n",
       "    </tr>\n",
       "    <tr>\n",
       "      <th>44</th>\n",
       "      <td>8.640738</td>\n",
       "      <td>206.261256</td>\n",
       "    </tr>\n",
       "    <tr>\n",
       "      <th>45</th>\n",
       "      <td>90.142259</td>\n",
       "      <td>40.869832</td>\n",
       "    </tr>\n",
       "    <tr>\n",
       "      <th>46</th>\n",
       "      <td>44.052228</td>\n",
       "      <td>131.426071</td>\n",
       "    </tr>\n",
       "    <tr>\n",
       "      <th>47</th>\n",
       "      <td>63.502898</td>\n",
       "      <td>100.395612</td>\n",
       "    </tr>\n",
       "    <tr>\n",
       "      <th>48</th>\n",
       "      <td>45.387337</td>\n",
       "      <td>135.637470</td>\n",
       "    </tr>\n",
       "    <tr>\n",
       "      <th>49</th>\n",
       "      <td>76.055633</td>\n",
       "      <td>70.036242</td>\n",
       "    </tr>\n",
       "  </tbody>\n",
       "</table>\n",
       "</div>"
      ],
      "text/plain": [
       "            x           y\n",
       "0   32.553449  143.171647\n",
       "1   87.803392   38.933584\n",
       "2   27.628352  148.190204\n",
       "3   83.428207   45.144230\n",
       "4    2.478862  219.941308\n",
       "5   37.121335  150.516623\n",
       "6    3.060515  219.233345\n",
       "7   44.384132  128.948901\n",
       "8   19.282481  172.736321\n",
       "9   20.280184  180.712664\n",
       "10  96.022816   33.257722\n",
       "11  91.048113   24.225097\n",
       "12   5.701259  193.077911\n",
       "13  57.585558  113.536307\n",
       "14  91.695751   32.853426\n",
       "15  74.022744   58.072037\n",
       "16  88.712625   50.302610\n",
       "17  96.607464   30.916305\n",
       "18  13.759003  193.208249\n",
       "19  26.652916  157.978387\n",
       "20  33.169347  157.921791\n",
       "21  43.083273  131.222552\n",
       "22   2.177558  199.870593\n",
       "23   9.310960  190.411017\n",
       "24  85.638335   28.810118\n",
       "25  83.501712   46.226968\n",
       "26  66.736772   70.897657\n",
       "27  37.193593  134.650694\n",
       "28  80.456797   61.941329\n",
       "29  93.357952   34.077541\n",
       "30  76.500695   48.975583\n",
       "31  37.398841  135.175656\n",
       "32  59.523760   95.579482\n",
       "33  23.578056  163.109479\n",
       "34  23.157027  156.810999\n",
       "35  96.723350   24.954006\n",
       "36  58.549692   96.611793\n",
       "37   8.185347  200.419172\n",
       "38  59.505093   89.617387\n",
       "39  27.494348  172.556017\n",
       "40  84.348656   31.309936\n",
       "41  48.782318  103.391207\n",
       "42  10.880748  186.150502\n",
       "43   3.350218  222.454282\n",
       "44   8.640738  206.261256\n",
       "45  90.142259   40.869832\n",
       "46  44.052228  131.426071\n",
       "47  63.502898  100.395612\n",
       "48  45.387337  135.637470\n",
       "49  76.055633   70.036242"
      ]
     },
     "execution_count": 12,
     "metadata": {},
     "output_type": "execute_result"
    }
   ],
   "source": [
    "DF=pd.DataFrame(np.transpose(np.array([x,y])),columns=['x','y'])\n",
    "DF"
   ]
  },
  {
   "cell_type": "code",
   "execution_count": 13,
   "metadata": {
    "colab": {
     "base_uri": "https://localhost:8080/",
     "height": 86
    },
    "colab_type": "code",
    "id": "SfLom_p3kRNJ",
    "outputId": "d1483e9d-8ca1-42a2-ea05-286acf3707b6"
   },
   "outputs": [
    {
     "data": {
      "text/plain": [
       "[1.709743457922741e-16, 2.6645352591003756e-17, 1.0, 0.9999999999999999]"
      ]
     },
     "execution_count": 13,
     "metadata": {},
     "output_type": "execute_result"
    }
   ],
   "source": [
    "scaler = StandardScaler()\n",
    "DFT = scaler.fit_transform(DF)\n",
    "[DFT[:,0].mean(),DFT[:,1].mean(),DFT[:,0].std(),DFT[:,1].std()]"
   ]
  },
  {
   "cell_type": "code",
   "execution_count": 14,
   "metadata": {},
   "outputs": [
    {
     "data": {
      "text/html": [
       "<div>\n",
       "<style scoped>\n",
       "    .dataframe tbody tr th:only-of-type {\n",
       "        vertical-align: middle;\n",
       "    }\n",
       "\n",
       "    .dataframe tbody tr th {\n",
       "        vertical-align: top;\n",
       "    }\n",
       "\n",
       "    .dataframe thead th {\n",
       "        text-align: right;\n",
       "    }\n",
       "</style>\n",
       "<table border=\"1\" class=\"dataframe\">\n",
       "  <thead>\n",
       "    <tr style=\"text-align: right;\">\n",
       "      <th></th>\n",
       "      <th>x_std</th>\n",
       "      <th>y_std</th>\n",
       "    </tr>\n",
       "  </thead>\n",
       "  <tbody>\n",
       "    <tr>\n",
       "      <th>count</th>\n",
       "      <td>5.000000e+01</td>\n",
       "      <td>5.000000e+01</td>\n",
       "    </tr>\n",
       "    <tr>\n",
       "      <th>mean</th>\n",
       "      <td>1.709743e-16</td>\n",
       "      <td>2.664535e-17</td>\n",
       "    </tr>\n",
       "    <tr>\n",
       "      <th>std</th>\n",
       "      <td>1.010153e+00</td>\n",
       "      <td>1.010153e+00</td>\n",
       "    </tr>\n",
       "    <tr>\n",
       "      <th>min</th>\n",
       "      <td>-1.507095e+00</td>\n",
       "      <td>-1.444833e+00</td>\n",
       "    </tr>\n",
       "    <tr>\n",
       "      <th>25%</th>\n",
       "      <td>-8.370786e-01</td>\n",
       "      <td>-1.050192e+00</td>\n",
       "    </tr>\n",
       "    <tr>\n",
       "      <th>50%</th>\n",
       "      <td>-1.499432e-01</td>\n",
       "      <td>2.207641e-01</td>\n",
       "    </tr>\n",
       "    <tr>\n",
       "      <th>75%</th>\n",
       "      <td>1.051228e+00</td>\n",
       "      <td>8.518283e-01</td>\n",
       "    </tr>\n",
       "    <tr>\n",
       "      <th>max</th>\n",
       "      <td>1.497318e+00</td>\n",
       "      <td>1.674078e+00</td>\n",
       "    </tr>\n",
       "  </tbody>\n",
       "</table>\n",
       "</div>"
      ],
      "text/plain": [
       "              x_std         y_std\n",
       "count  5.000000e+01  5.000000e+01\n",
       "mean   1.709743e-16  2.664535e-17\n",
       "std    1.010153e+00  1.010153e+00\n",
       "min   -1.507095e+00 -1.444833e+00\n",
       "25%   -8.370786e-01 -1.050192e+00\n",
       "50%   -1.499432e-01  2.207641e-01\n",
       "75%    1.051228e+00  8.518283e-01\n",
       "max    1.497318e+00  1.674078e+00"
      ]
     },
     "execution_count": 14,
     "metadata": {},
     "output_type": "execute_result"
    }
   ],
   "source": [
    "pd.DataFrame(data=DFT,columns=['x_std','y_std']).describe()"
   ]
  },
  {
   "cell_type": "code",
   "execution_count": 15,
   "metadata": {},
   "outputs": [
    {
     "data": {
      "text/plain": [
       "array([[-0.54183025,  0.42665623],\n",
       "       [ 1.21386518, -1.21341135],\n",
       "       [-0.69833668,  0.50561752],\n",
       "       [ 1.07483349, -1.1156939 ],\n",
       "       [-1.49752019,  1.63453969],\n",
       "       [-0.39667505,  0.54222108],\n",
       "       [-1.47903684,  1.62340069],\n",
       "       [-0.1658828 ,  0.20287747],\n",
       "       [-0.96354614,  0.89182281],\n",
       "       [-0.9318418 ,  1.01732151],\n",
       "       [ 1.4750565 , -1.3027146 ],\n",
       "       [ 1.31697375, -1.44483269],\n",
       "       [-1.39512106,  1.21187464],\n",
       "       [ 0.25362322, -0.0396222 ],\n",
       "       [ 1.33755394, -1.30907574],\n",
       "       [ 0.77595304, -0.91228952],\n",
       "       [ 1.24275817, -1.03453264],\n",
       "       [ 1.49363504, -1.33955414],\n",
       "       [-1.1390675 ,  1.21392535],\n",
       "       [-0.72933341,  0.65962348],\n",
       "       [-0.52225866,  0.65873299],\n",
       "       [-0.2072206 ,  0.23865078],\n",
       "       [-1.50709483,  1.31874977],\n",
       "       [-1.28041439,  1.16991408],\n",
       "       [ 1.14506545, -1.3726926 ],\n",
       "       [ 1.07716928, -1.09865824],\n",
       "       [ 0.54442432, -0.71049296],\n",
       "       [-0.39437887,  0.29258871],\n",
       "       [ 0.98041005, -0.85141061],\n",
       "       [ 1.39037424, -1.28981568],\n",
       "       [ 0.85469569, -1.0554119 ],\n",
       "       [-0.38785664,  0.30084839],\n",
       "       [ 0.31521411, -0.32215246],\n",
       "       [-0.82704425,  0.74035537],\n",
       "       [-0.84042341,  0.64125594],\n",
       "       [ 1.4973176 , -1.43336415],\n",
       "       [ 0.28426084, -0.30591022],\n",
       "       [-1.31618336,  1.32738103],\n",
       "       [ 0.31462093, -0.41595925],\n",
       "       [-0.70259496,  0.88898593],\n",
       "       [ 1.1040829 , -1.3333608 ],\n",
       "       [-0.02612019, -0.19924383],\n",
       "       [-1.23053075,  1.10287971],\n",
       "       [-1.46983085,  1.67407848],\n",
       "       [-1.30171227,  1.4192996 ],\n",
       "       [ 1.28818813, -1.18294669],\n",
       "       [-0.17642983,  0.24185293],\n",
       "       [ 0.44166045, -0.24637612],\n",
       "       [-0.13400361,  0.3081145 ],\n",
       "       [ 0.84055283, -0.72404634]])"
      ]
     },
     "execution_count": 15,
     "metadata": {},
     "output_type": "execute_result"
    }
   ],
   "source": [
    "DFT"
   ]
  },
  {
   "cell_type": "code",
   "execution_count": 16,
   "metadata": {},
   "outputs": [
    {
     "data": {
      "text/plain": [
       "<matplotlib.collections.PathCollection at 0x1f8a381e9d0>"
      ]
     },
     "execution_count": 16,
     "metadata": {},
     "output_type": "execute_result"
    },
    {
     "data": {
      "image/png": "[encoded data removed]",
      "text/plain": [
       "<Figure size 640x480 with 1 Axes>"
      ]
     },
     "metadata": {},
     "output_type": "display_data"
    }
   ],
   "source": [
    "plt.scatter(DFT.T[0],DFT.T[1])"
   ]
  },
  {
   "cell_type": "code",
   "execution_count": 21,
   "metadata": {
    "colab": {
     "base_uri": "https://localhost:8080/",
     "height": 295
    },
    "colab_type": "code",
    "id": "MNhjVhwKkass",
    "outputId": "a6822e6f-397b-4b16-d5de-233c6392aa9a"
   },
   "outputs": [
    {
     "data": {
      "image/png": "[encoded data removed]",
      "text/plain": [
       "<Figure size 640x480 with 1 Axes>"
      ]
     },
     "metadata": {},
     "output_type": "display_data"
    }
   ],
   "source": [
    "pca = PCA(n_components=2)\n",
    "pca.fit(DFT)\n",
    "principal_components=pca.transform(DFT)\n",
    "\n",
    "\n",
    "DFPC= pd.DataFrame(principal_components)\n",
    "plt.scatter(principal_components[:,0],principal_components[:,1])\n",
    "plt.xlim(-2,2)\n",
    "plt.ylim(-2,2)\n",
    "plt.show()"
   ]
  },
  {
   "cell_type": "code",
   "execution_count": 22,
   "metadata": {},
   "outputs": [
    {
     "data": {
      "text/plain": [
       "array([ 0.68482336, -1.7163437 ,  0.85132418, -1.54893677,  2.21470078,\n",
       "        0.66389982,  2.19375462,  0.26075288,  1.31194396,  1.37826659,\n",
       "       -1.96418078, -1.95289207,  1.84342434, -0.20735583, -1.87144979,\n",
       "       -1.19376776, -1.61028777, -2.00336729,  1.66381719,  0.98214083,\n",
       "        0.8350872 ,  0.31527867,  1.99817388,  1.73264388, -1.78032379,\n",
       "       -1.5385424 , -0.88736052,  0.48575944, -1.29529281, -1.89518047,\n",
       "       -1.35065003,  0.486988  , -0.45068623,  1.1083189 ,  1.04770551,\n",
       "       -2.07230494, -0.41731396,  1.86928231, -0.5165982 ,  1.12541765,\n",
       "       -1.72353297, -0.1224169 ,  1.64997036,  2.22307961,  1.92404594,\n",
       "       -1.74735619,  0.29577057, -0.48651533,  0.31262471, -1.10633868])"
      ]
     },
     "execution_count": 22,
     "metadata": {},
     "output_type": "execute_result"
    }
   ],
   "source": [
    "DFPC.values.T[0]"
   ]
  },
  {
   "cell_type": "code",
   "execution_count": 23,
   "metadata": {},
   "outputs": [
    {
     "data": {
      "text/plain": [
       "(-2.2870741687738523,\n",
       " 2.4378488328820564,\n",
       " -0.16699384714072113,\n",
       " 0.17779623391067245)"
      ]
     },
     "execution_count": 23,
     "metadata": {},
     "output_type": "execute_result"
    },
    {
     "data": {
      "image/png": "[encoded data removed]",
      "text/plain": [
       "<Figure size 640x480 with 1 Axes>"
      ]
     },
     "metadata": {},
     "output_type": "display_data"
    }
   ],
   "source": [
    "plt.scatter(DFPC.values.T[0],DFPC.values.T[1])\n",
    "plt.axis('equal')"
   ]
  },
  {
   "cell_type": "code",
   "execution_count": 25,
   "metadata": {},
   "outputs": [
    {
     "data": {
      "text/plain": [
       "(-2.2870741687738523,\n",
       " 2.4378488328820564,\n",
       " -0.16699384714072113,\n",
       " 0.17779623391067245)"
      ]
     },
     "execution_count": 25,
     "metadata": {},
     "output_type": "execute_result"
    },
    {
     "data": {
      "image/png": "[encoded data removed]",
      "text/plain": [
       "<Figure size 640x480 with 1 Axes>"
      ]
     },
     "metadata": {},
     "output_type": "display_data"
    }
   ],
   "source": [
    "plt.scatter(DFPC.values.T[0],DFPC.values.T[1])\n",
    "plt.axis('equal')"
   ]
  },
  {
   "cell_type": "code",
   "execution_count": 26,
   "metadata": {
    "colab": {
     "base_uri": "https://localhost:8080/",
     "height": 34
    },
    "colab_type": "code",
    "id": "n-IffBWew1L0",
    "outputId": "05635db2-4237-44a9-aad7-96fb36cace31"
   },
   "outputs": [
    {
     "data": {
      "text/plain": [
       "array([99.5,  0.5])"
      ]
     },
     "execution_count": 26,
     "metadata": {},
     "output_type": "execute_result"
    }
   ],
   "source": [
    "per_var = np.round(pca.explained_variance_ratio_ * 100, decimals=1)\n",
    "per_var"
   ]
  },
  {
   "cell_type": "code",
   "execution_count": 27,
   "metadata": {
    "colab": {
     "base_uri": "https://localhost:8080/",
     "height": 51
    },
    "colab_type": "code",
    "id": "D90zYQFSxESl",
    "outputId": "59ef28ff-79d4-4871-e9ba-d74f8498e77f"
   },
   "outputs": [
    {
     "data": {
      "text/plain": [
       "array([[ 1.02040816, -1.01070708],\n",
       "       [-1.01070708,  1.02040816]])"
      ]
     },
     "execution_count": 27,
     "metadata": {},
     "output_type": "execute_result"
    }
   ],
   "source": [
    "COV=np.cov(np.transpose(DFT))\n",
    "COV"
   ]
  },
  {
   "cell_type": "code",
   "execution_count": 28,
   "metadata": {
    "colab": {
     "base_uri": "https://localhost:8080/",
     "height": 51
    },
    "colab_type": "code",
    "id": "Rz1CMmtlxsVe",
    "outputId": "675de7fa-e522-46b1-ec2d-f176de49e2da"
   },
   "outputs": [
    {
     "data": {
      "text/plain": [
       "EigResult(eigenvalues=array([2.03111525, 0.00970108]), eigenvectors=array([[ 0.70710678,  0.70710678],\n",
       "       [-0.70710678,  0.70710678]]))"
      ]
     },
     "execution_count": 28,
     "metadata": {},
     "output_type": "execute_result"
    }
   ],
   "source": [
    "np.linalg.eig(COV)"
   ]
  },
  {
   "cell_type": "code",
   "execution_count": 29,
   "metadata": {
    "colab": {},
    "colab_type": "code",
    "id": "GeD-GtNPzOeK"
   },
   "outputs": [],
   "source": [
    "def draw_vector(v0, v1, ax=None):\n",
    "    ax = ax or plt.gca()\n",
    "    arrowprops=dict(arrowstyle='->',\n",
    "                    linewidth=2,\n",
    "                    shrinkA=0, shrinkB=0)\n",
    "    ax.annotate('', v1, v0, arrowprops=arrowprops)"
   ]
  },
  {
   "cell_type": "code",
   "execution_count": 30,
   "metadata": {
    "colab": {
     "base_uri": "https://localhost:8080/",
     "height": 334
    },
    "colab_type": "code",
    "id": "It04dx4_zfTx",
    "outputId": "73463d64-48cd-4ed7-ae4b-7e272164a919"
   },
   "outputs": [
    {
     "name": "stdout",
     "output_type": "stream",
     "text": [
      "[-0.70710678  0.70710678]\n",
      "2.0311152479796823\n",
      "[-0.70710678 -0.70710678]\n",
      "0.00970107855092997\n"
     ]
    },
    {
     "data": {
      "image/png": "[encoded data removed]",
      "text/plain": [
       "<Figure size 640x480 with 1 Axes>"
      ]
     },
     "metadata": {},
     "output_type": "display_data"
    }
   ],
   "source": [
    "plt.scatter(DFT[:,0],DFT[:,1], alpha=0.5)\n",
    "L2=[2,0.3]\n",
    "i=0\n",
    "for length, vector in zip(pca.explained_variance_, pca.components_):\n",
    "  print(vector)\n",
    "  print(length)\n",
    "  v = vector*L2[i]\n",
    "  i=+1\n",
    "  draw_vector(pca.mean_, pca.mean_ + v)\n",
    "plt.axis('equal')\n",
    "plt.show()"
   ]
  },
  {
   "cell_type": "code",
   "execution_count": 31,
   "metadata": {
    "colab": {
     "base_uri": "https://localhost:8080/",
     "height": 334
    },
    "colab_type": "code",
    "id": "V1KhZunCYg9v",
    "outputId": "d3ac8342-7215-40a0-f0e0-e4f2e0ba296d"
   },
   "outputs": [
    {
     "data": {
      "text/plain": [
       "(-2.2870741687738523,\n",
       " 2.4378488328820564,\n",
       " -0.16699384714072113,\n",
       " 0.17779623391067245)"
      ]
     },
     "execution_count": 31,
     "metadata": {},
     "output_type": "execute_result"
    },
    {
     "data": {
      "image/png": "[encoded data removed]",
      "text/plain": [
       "<Figure size 640x480 with 1 Axes>"
      ]
     },
     "metadata": {},
     "output_type": "display_data"
    }
   ],
   "source": [
    "DFPC.values\n",
    "plt.scatter(DFPC.values[:,0],DFPC.values[:,1], alpha=0.5)\n",
    "plt.axis(\"equal\")"
   ]
  },
  {
   "cell_type": "markdown",
   "metadata": {
    "colab_type": "text",
    "id": "J0g2YbLR46Lt"
   },
   "source": [
    "**EJEMPLO 2** \n",
    "\n",
    "Volvamos con IRIS"
   ]
  },
  {
   "cell_type": "code",
   "execution_count": 39,
   "metadata": {},
   "outputs": [
    {
     "data": {
      "text/plain": [
       "['sepal length (cm)',\n",
       " 'sepal width (cm)',\n",
       " 'petal length (cm)',\n",
       " 'petal width (cm)']"
      ]
     },
     "execution_count": 39,
     "metadata": {},
     "output_type": "execute_result"
    },
    {
     "data": {
      "image/png": "[encoded data removed]",
      "text/plain": [
       "<Figure size 640x480 with 1 Axes>"
      ]
     },
     "metadata": {},
     "output_type": "display_data"
    }
   ],
   "source": [
    "from sklearn import datasets\n",
    "\n",
    "iris = datasets.load_iris()\n",
    "X = iris.data\n",
    "y = iris.target\n",
    "#In general a good idea is to scale the data\n",
    "scaler = StandardScaler()\n",
    "scaler.fit(X)\n",
    "X=scaler.transform(X)  \n",
    "plt.scatter(X[:,0],X[:,1],c=y)\n",
    "\n",
    "iris.feature_names"
   ]
  },
  {
   "cell_type": "code",
   "execution_count": 49,
   "metadata": {
    "colab": {
     "base_uri": "https://localhost:8080/",
     "height": 291
    },
    "colab_type": "code",
    "id": "ChqP5FFizj-J",
    "outputId": "47da4907-a633-4661-e569-16cfb10ba4ff"
   },
   "outputs": [
    {
     "data": {
      "image/png": "[encoded data removed]",
      "text/plain": [
       "<Figure size 640x480 with 1 Axes>"
      ]
     },
     "metadata": {},
     "output_type": "display_data"
    }
   ],
   "source": [
    "pca = PCA(n_components=4)\n",
    "x_new = pca.fit_transform(X)\n",
    "columnasiris=[\"sepal length\",\t\"sepal width\",\t\"petal length\",\t\"petal width\"]\n",
    "def biplot(score,coeff,labels=None):\n",
    "    xs = score[:,0]\n",
    "    ys = score[:,1]\n",
    "    n = coeff.shape[0]\n",
    "    scalex = 1.0/(xs.max() - xs.min())\n",
    "    scaley = 1.0/(ys.max() - ys.min())\n",
    "    plt.scatter(xs ,ys, c = y)\n",
    "    for i in range(n):\n",
    "        plt.arrow(0, 0, coeff[i,0], coeff[i,1],color = 'r',alpha = 0.5)\n",
    "        if labels is None:\n",
    "            plt.text(coeff[i,0]* 1.15, coeff[i,1] * 1.15, columnasiris[i], color = 'g', ha = 'center', va = 'center')\n",
    "        else:\n",
    "            plt.text(coeff[i,0]* 1.15, coeff[i,1] * 1.15, labels[i], color = 'g', ha = 'center', va = 'center')\n",
    "plt.xlim(-4,4)\n",
    "plt.ylim(-4,4)\n",
    "plt.xlabel(\"PC{}\".format(1))\n",
    "plt.ylabel(\"PC{}\".format(2))\n",
    "plt.grid()\n",
    "\n",
    "#Call the function. Use only the 2 PCs.\n",
    "biplot(x_new[:,0:2],np.transpose(pca.components_[0:2, :]))\n",
    "plt.show()"
   ]
  },
  {
   "cell_type": "code",
   "execution_count": 50,
   "metadata": {},
   "outputs": [
    {
     "data": {
      "text/plain": [
       "array([20.92306556, 11.7091661 ,  4.69185798,  1.76273239])"
      ]
     },
     "execution_count": 50,
     "metadata": {},
     "output_type": "execute_result"
    }
   ],
   "source": [
    "## Inercia en el PCA\n",
    "\n",
    "pca.singular_values_"
   ]
  },
  {
   "cell_type": "code",
   "execution_count": 51,
   "metadata": {},
   "outputs": [
    {
     "data": {
      "text/plain": [
       "39.08682202887239"
      ]
     },
     "execution_count": 51,
     "metadata": {},
     "output_type": "execute_result"
    }
   ],
   "source": [
    "pca.singular_values_.sum()"
   ]
  },
  {
   "cell_type": "code",
   "execution_count": 53,
   "metadata": {},
   "outputs": [
    {
     "data": {
      "text/plain": [
       "0.5353067594535127"
      ]
     },
     "execution_count": 53,
     "metadata": {},
     "output_type": "execute_result"
    }
   ],
   "source": [
    "# La inercia en el PCA hace referencia al porcentaje de variabilidad que explica cada componente\n",
    "### Para la primera componente\n",
    "20.923/39.086"
   ]
  },
  {
   "cell_type": "code",
   "execution_count": 54,
   "metadata": {},
   "outputs": [
    {
     "data": {
      "text/plain": [
       "0.29957273704139586"
      ]
     },
     "execution_count": 54,
     "metadata": {},
     "output_type": "execute_result"
    }
   ],
   "source": [
    "### La segunda componente\n",
    "\n",
    "11.7091/39.086"
   ]
  },
  {
   "cell_type": "code",
   "execution_count": 60,
   "metadata": {},
   "outputs": [
    {
     "data": {
      "text/plain": [
       "0    2.938085\n",
       "1    0.920165\n",
       "2    0.147742\n",
       "3    0.020854\n",
       "dtype: float64"
      ]
     },
     "execution_count": 60,
     "metadata": {},
     "output_type": "execute_result"
    }
   ],
   "source": [
    "pd.DataFrame(x_new).var()"
   ]
  },
  {
   "cell_type": "code",
   "execution_count": 55,
   "metadata": {},
   "outputs": [
    {
     "data": {
      "text/plain": [
       "array([2.93808505, 0.9201649 , 0.14774182, 0.02085386])"
      ]
     },
     "execution_count": 55,
     "metadata": {},
     "output_type": "execute_result"
    }
   ],
   "source": [
    "pca.explained_variance_"
   ]
  },
  {
   "cell_type": "code",
   "execution_count": 56,
   "metadata": {},
   "outputs": [
    {
     "data": {
      "text/plain": [
       "array([0.72962445, 0.22850762, 0.03668922, 0.00517871])"
      ]
     },
     "execution_count": 56,
     "metadata": {},
     "output_type": "execute_result"
    }
   ],
   "source": [
    "pca.explained_variance_ratio_"
   ]
  },
  {
   "cell_type": "code",
   "execution_count": null,
   "metadata": {},
   "outputs": [],
   "source": []
  }
 ],
 "metadata": {
  "colab": {
   "name": "ACP_Ejemplitos.ipynb",
   "provenance": []
  },
  "kernelspec": {
   "display_name": "Python 3",
   "language": "python",
   "name": "python3"
  },
  "language_info": {
   "codemirror_mode": {
    "name": "ipython",
    "version": 3
   },
   "file_extension": ".py",
   "mimetype": "text/x-python",
   "name": "python",
   "nbconvert_exporter": "python",
   "pygments_lexer": "ipython3",
   "version": "3.11.5"
  },
  "toc": {
   "base_numbering": 1,
   "nav_menu": {},
   "number_sections": false,
   "sideBar": true,
   "skip_h1_title": false,
   "title_cell": "Table of Contents",
   "title_sidebar": "Contents",
   "toc_cell": false,
   "toc_position": {},
   "toc_section_display": true,
   "toc_window_display": false
  }
 },
 "nbformat": 4,
 "nbformat_minor": 4
}
