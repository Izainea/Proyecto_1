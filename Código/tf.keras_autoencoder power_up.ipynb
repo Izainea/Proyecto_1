{
 "cells": [
  {
   "cell_type": "markdown",
   "metadata": {},
   "source": [
    "# Autoencoders\n",
    "\n",
    "Los autoencoders son una forma de aprendizaje no supervisado que se utiliza para aprender representaciones eficientes de los datos. La idea es que el autoencoder aprenda a codificar los datos de entrada en una representación más compacta y luego decodificarlos de nuevo a su forma original.\n"
   ]
  },
  {
   "cell_type": "code",
   "execution_count": 1,
   "metadata": {},
   "outputs": [
    {
     "name": "stdout",
     "output_type": "stream",
     "text": [
      "WARNING:tensorflow:From c:\\Users\\cizai\\miniconda3\\Lib\\site-packages\\keras\\src\\losses.py:2976: The name tf.losses.sparse_softmax_cross_entropy is deprecated. Please use tf.compat.v1.losses.sparse_softmax_cross_entropy instead.\n",
      "\n"
     ]
    }
   ],
   "source": [
    "import numpy as np\n",
    "import tensorflow as tf\n",
    "from tensorflow.keras.layers import Input, Dense\n",
    "from tensorflow.keras.models import Model\n",
    "from tensorflow.keras.optimizers import Adam\n",
    "from tensorflow.keras.datasets import mnist\n",
    "import matplotlib.pyplot as plt\n"
   ]
  },
  {
   "cell_type": "code",
   "execution_count": 2,
   "metadata": {},
   "outputs": [
    {
     "name": "stdout",
     "output_type": "stream",
     "text": [
      "(60000, 28, 28)\n",
      "(60000, 784)\n"
     ]
    },
    {
     "data": {
      "image/png": "[encoded data removed]",
      "text/plain": [
       "<Figure size 640x480 with 1 Axes>"
      ]
     },
     "metadata": {},
     "output_type": "display_data"
    }
   ],
   "source": [
    "(x_train,y_train),(x_test,y_test)=mnist.load_data()\n",
    "\n",
    "x_train=x_train.astype('float32')/255\n",
    "x_test=x_test.astype('float32')/255\n",
    "\n",
    "plt.imshow(x_train[0])\n",
    "\n",
    "print(x_train.shape)\n",
    "\n",
    "print(x_train.reshape((len(x_train),np.prod(x_train.shape[1:]))).shape)\n",
    "\n",
    "x_train=x_train.reshape((len(x_train),np.prod(x_train.shape[1:])))\n",
    "x_test=x_test.reshape((len(x_test),np.prod(x_test.shape[1:])))"
   ]
  },
  {
   "cell_type": "code",
   "execution_count": 3,
   "metadata": {},
   "outputs": [
    {
     "name": "stdout",
     "output_type": "stream",
     "text": [
      "WARNING:tensorflow:From c:\\Users\\cizai\\miniconda3\\Lib\\site-packages\\keras\\src\\backend.py:1398: The name tf.executing_eagerly_outside_functions is deprecated. Please use tf.compat.v1.executing_eagerly_outside_functions instead.\n",
      "\n"
     ]
    }
   ],
   "source": [
    "## Dimensión del espacio de codificación\n",
    "\n",
    "encoding_dim=16\n",
    "\n",
    "## Entrada del codificador\n",
    "input_img=Input(shape=(784,))\n",
    "\n",
    "## Capa de codificación de una a la salida\n",
    "encoded = Dense(128,activation='relu')(input_img)\n",
    "encoded = Dense(64,activation='relu')(encoded)\n",
    "encoded = Dense(encoding_dim,activation='relu')(encoded)\n",
    "\n",
    "### Capa de decodificación\n",
    "decoded = Dense(64,activation='relu')(encoded)\n",
    "decoded = Dense(128,activation='relu')(decoded)\n",
    "decoded = Dense(784,activation='sigmoid')(decoded)\n",
    "\n",
    "\n",
    "### Modelo del autoencoder\n",
    "autoencoder = Model(input_img,decoded)\n",
    "\n",
    "### Modelo del codificador\n",
    "encoder=Model(input_img,encoded)\n",
    "\n",
    "### Modelo del decodificador\n",
    "encoded_input=Input(shape=(encoding_dim,))\n",
    "decoder_layer_1=autoencoder.layers[-3](encoded_input)\n",
    "decoder_layer_2=autoencoder.layers[-2](decoder_layer_1)\n",
    "decoder_layer_3=autoencoder.layers[-1](decoder_layer_2)\n",
    "\n",
    "decoder=Model(encoded_input,decoder_layer_3)\n",
    "\n",
    "\n"
   ]
  },
  {
   "cell_type": "code",
   "execution_count": 4,
   "metadata": {},
   "outputs": [
    {
     "name": "stdout",
     "output_type": "stream",
     "text": [
      "WARNING:tensorflow:From c:\\Users\\cizai\\miniconda3\\Lib\\site-packages\\keras\\src\\optimizers\\__init__.py:309: The name tf.train.Optimizer is deprecated. Please use tf.compat.v1.train.Optimizer instead.\n",
      "\n"
     ]
    }
   ],
   "source": [
    "### Compilar el modelo\n",
    "\n",
    "autoencoder.compile(optimizer='adam',loss='binary_crossentropy')"
   ]
  },
  {
   "cell_type": "code",
   "execution_count": 5,
   "metadata": {},
   "outputs": [
    {
     "name": "stdout",
     "output_type": "stream",
     "text": [
      "Model: \"model_1\"\n",
      "_________________________________________________________________\n",
      " Layer (type)                Output Shape              Param #   \n",
      "=================================================================\n",
      " input_1 (InputLayer)        [(None, 784)]             0         \n",
      "                                                                 \n",
      " dense (Dense)               (None, 128)               100480    \n",
      "                                                                 \n",
      " dense_1 (Dense)             (None, 64)                8256      \n",
      "                                                                 \n",
      " dense_2 (Dense)             (None, 16)                1040      \n",
      "                                                                 \n",
      "=================================================================\n",
      "Total params: 109776 (428.81 KB)\n",
      "Trainable params: 109776 (428.81 KB)\n",
      "Non-trainable params: 0 (0.00 Byte)\n",
      "_________________________________________________________________\n"
     ]
    }
   ],
   "source": [
    "encoder.summary()"
   ]
  },
  {
   "cell_type": "code",
   "execution_count": 6,
   "metadata": {},
   "outputs": [
    {
     "data": {
      "text/plain": [
       "[<tf.Variable 'dense/kernel:0' shape=(784, 128) dtype=float32, numpy=\n",
       " array([[-0.03768911,  0.06564616, -0.01205262, ...,  0.06715492,\n",
       "         -0.02324682, -0.05520522],\n",
       "        [-0.02973972,  0.03034879,  0.03422831, ..., -0.01209962,\n",
       "          0.0503941 ,  0.02675845],\n",
       "        [-0.06381118,  0.03486159,  0.00795146, ...,  0.05699877,\n",
       "         -0.04128085, -0.05194215],\n",
       "        ...,\n",
       "        [-0.0464655 , -0.04053996, -0.0776035 , ..., -0.01125795,\n",
       "          0.02375016,  0.05347612],\n",
       "        [ 0.06903937,  0.0474151 , -0.02288198, ...,  0.04335342,\n",
       "          0.01755655, -0.08029453],\n",
       "        [-0.06383143, -0.04173278,  0.01324265, ...,  0.030438  ,\n",
       "          0.05416676,  0.0658165 ]], dtype=float32)>,\n",
       " <tf.Variable 'dense/bias:0' shape=(128,) dtype=float32, numpy=\n",
       " array([0., 0., 0., 0., 0., 0., 0., 0., 0., 0., 0., 0., 0., 0., 0., 0., 0.,\n",
       "        0., 0., 0., 0., 0., 0., 0., 0., 0., 0., 0., 0., 0., 0., 0., 0., 0.,\n",
       "        0., 0., 0., 0., 0., 0., 0., 0., 0., 0., 0., 0., 0., 0., 0., 0., 0.,\n",
       "        0., 0., 0., 0., 0., 0., 0., 0., 0., 0., 0., 0., 0., 0., 0., 0., 0.,\n",
       "        0., 0., 0., 0., 0., 0., 0., 0., 0., 0., 0., 0., 0., 0., 0., 0., 0.,\n",
       "        0., 0., 0., 0., 0., 0., 0., 0., 0., 0., 0., 0., 0., 0., 0., 0., 0.,\n",
       "        0., 0., 0., 0., 0., 0., 0., 0., 0., 0., 0., 0., 0., 0., 0., 0., 0.,\n",
       "        0., 0., 0., 0., 0., 0., 0., 0., 0.], dtype=float32)>,\n",
       " <tf.Variable 'dense_1/kernel:0' shape=(128, 64) dtype=float32, numpy=\n",
       " array([[-0.11994913, -0.0127686 , -0.13945183, ..., -0.15063208,\n",
       "          0.09478827,  0.01476556],\n",
       "        [ 0.13841443, -0.0528084 , -0.07342432, ..., -0.01546527,\n",
       "         -0.06741805, -0.09454798],\n",
       "        [ 0.02689715,  0.14922525, -0.08747523, ...,  0.16156115,\n",
       "          0.13684903,  0.13864829],\n",
       "        ...,\n",
       "        [-0.02773818, -0.01051067,  0.07976   , ...,  0.03759432,\n",
       "          0.1517856 , -0.07582816],\n",
       "        [ 0.12293123, -0.1502686 , -0.16746324, ...,  0.04614861,\n",
       "          0.02329072, -0.15059397],\n",
       "        [ 0.04602933,  0.1686951 ,  0.17450286, ...,  0.13334303,\n",
       "          0.13320275, -0.05396023]], dtype=float32)>,\n",
       " <tf.Variable 'dense_1/bias:0' shape=(64,) dtype=float32, numpy=\n",
       " array([0., 0., 0., 0., 0., 0., 0., 0., 0., 0., 0., 0., 0., 0., 0., 0., 0.,\n",
       "        0., 0., 0., 0., 0., 0., 0., 0., 0., 0., 0., 0., 0., 0., 0., 0., 0.,\n",
       "        0., 0., 0., 0., 0., 0., 0., 0., 0., 0., 0., 0., 0., 0., 0., 0., 0.,\n",
       "        0., 0., 0., 0., 0., 0., 0., 0., 0., 0., 0., 0., 0.], dtype=float32)>,\n",
       " <tf.Variable 'dense_2/kernel:0' shape=(64, 16) dtype=float32, numpy=\n",
       " array([[ 0.12196925,  0.20213395,  0.17825451, ..., -0.15460262,\n",
       "          0.14521295,  0.03151718],\n",
       "        [-0.27230385, -0.04891165, -0.19901867, ..., -0.00675449,\n",
       "          0.03913087,  0.0064798 ],\n",
       "        [ 0.09390175,  0.10233253,  0.10780048, ..., -0.22873518,\n",
       "         -0.2566715 ,  0.16365519],\n",
       "        ...,\n",
       "        [-0.0955738 , -0.16641796,  0.11360562, ..., -0.09042168,\n",
       "         -0.22627687,  0.17544624],\n",
       "        [-0.01740304,  0.05521876,  0.0744077 , ..., -0.03720516,\n",
       "          0.03478464,  0.08607945],\n",
       "        [ 0.06141791,  0.15948522, -0.04292585, ...,  0.13326788,\n",
       "         -0.13195422, -0.07077444]], dtype=float32)>,\n",
       " <tf.Variable 'dense_2/bias:0' shape=(16,) dtype=float32, numpy=\n",
       " array([0., 0., 0., 0., 0., 0., 0., 0., 0., 0., 0., 0., 0., 0., 0., 0.],\n",
       "       dtype=float32)>]"
      ]
     },
     "execution_count": 6,
     "metadata": {},
     "output_type": "execute_result"
    }
   ],
   "source": [
    "encoder.weights"
   ]
  },
  {
   "cell_type": "code",
   "execution_count": 7,
   "metadata": {},
   "outputs": [
    {
     "name": "stdout",
     "output_type": "stream",
     "text": [
      "Epoch 1/100\n",
      "WARNING:tensorflow:From c:\\Users\\cizai\\miniconda3\\Lib\\site-packages\\keras\\src\\utils\\tf_utils.py:492: The name tf.ragged.RaggedTensorValue is deprecated. Please use tf.compat.v1.ragged.RaggedTensorValue instead.\n",
      "\n"
     ]
    },
    {
     "name": "stdout",
     "output_type": "stream",
     "text": [
      "235/235 [==============================] - 2s 5ms/step - loss: 0.2621 - val_loss: 0.1799\n",
      "Epoch 2/100\n",
      "235/235 [==============================] - 1s 5ms/step - loss: 0.1615 - val_loss: 0.1482\n",
      "Epoch 3/100\n",
      "235/235 [==============================] - 1s 5ms/step - loss: 0.1407 - val_loss: 0.1335\n",
      "Epoch 4/100\n",
      "235/235 [==============================] - 1s 6ms/step - loss: 0.1313 - val_loss: 0.1266\n",
      "Epoch 5/100\n",
      "235/235 [==============================] - 1s 5ms/step - loss: 0.1261 - val_loss: 0.1230\n",
      "Epoch 6/100\n",
      "235/235 [==============================] - 1s 5ms/step - loss: 0.1231 - val_loss: 0.1209\n",
      "Epoch 7/100\n",
      "235/235 [==============================] - 1s 5ms/step - loss: 0.1209 - val_loss: 0.1186\n",
      "Epoch 8/100\n",
      "235/235 [==============================] - 1s 6ms/step - loss: 0.1190 - val_loss: 0.1169\n",
      "Epoch 9/100\n",
      "235/235 [==============================] - 1s 6ms/step - loss: 0.1173 - val_loss: 0.1155\n",
      "Epoch 10/100\n",
      "235/235 [==============================] - 2s 7ms/step - loss: 0.1157 - val_loss: 0.1135\n",
      "Epoch 11/100\n",
      "235/235 [==============================] - 1s 6ms/step - loss: 0.1140 - val_loss: 0.1120\n",
      "Epoch 12/100\n",
      "235/235 [==============================] - 1s 6ms/step - loss: 0.1125 - val_loss: 0.1104\n",
      "Epoch 13/100\n",
      "235/235 [==============================] - 1s 6ms/step - loss: 0.1107 - val_loss: 0.1090\n",
      "Epoch 14/100\n",
      "235/235 [==============================] - 1s 6ms/step - loss: 0.1093 - val_loss: 0.1081\n",
      "Epoch 15/100\n",
      "235/235 [==============================] - 1s 6ms/step - loss: 0.1082 - val_loss: 0.1071\n",
      "Epoch 16/100\n",
      "235/235 [==============================] - 1s 6ms/step - loss: 0.1073 - val_loss: 0.1063\n",
      "Epoch 17/100\n",
      "235/235 [==============================] - 1s 6ms/step - loss: 0.1066 - val_loss: 0.1054\n",
      "Epoch 18/100\n",
      "235/235 [==============================] - 1s 6ms/step - loss: 0.1060 - val_loss: 0.1046\n",
      "Epoch 19/100\n",
      "235/235 [==============================] - 1s 6ms/step - loss: 0.1053 - val_loss: 0.1045\n",
      "Epoch 20/100\n",
      "235/235 [==============================] - 2s 6ms/step - loss: 0.1048 - val_loss: 0.1036\n",
      "Epoch 21/100\n",
      "235/235 [==============================] - 1s 6ms/step - loss: 0.1043 - val_loss: 0.1034\n",
      "Epoch 22/100\n",
      "235/235 [==============================] - 2s 6ms/step - loss: 0.1039 - val_loss: 0.1032\n",
      "Epoch 23/100\n",
      "235/235 [==============================] - 2s 7ms/step - loss: 0.1034 - val_loss: 0.1024\n",
      "Epoch 24/100\n",
      "235/235 [==============================] - 2s 7ms/step - loss: 0.1031 - val_loss: 0.1024\n",
      "Epoch 25/100\n",
      "235/235 [==============================] - 2s 7ms/step - loss: 0.1027 - val_loss: 0.1018\n",
      "Epoch 26/100\n",
      "235/235 [==============================] - 2s 7ms/step - loss: 0.1024 - val_loss: 0.1016\n",
      "Epoch 27/100\n",
      "235/235 [==============================] - 2s 7ms/step - loss: 0.1021 - val_loss: 0.1014\n",
      "Epoch 28/100\n",
      "235/235 [==============================] - 1s 6ms/step - loss: 0.1019 - val_loss: 0.1011\n",
      "Epoch 29/100\n",
      "235/235 [==============================] - 1s 6ms/step - loss: 0.1016 - val_loss: 0.1008\n",
      "Epoch 30/100\n",
      "235/235 [==============================] - 1s 6ms/step - loss: 0.1013 - val_loss: 0.1005\n",
      "Epoch 31/100\n",
      "235/235 [==============================] - 2s 6ms/step - loss: 0.1011 - val_loss: 0.1004\n",
      "Epoch 32/100\n",
      "235/235 [==============================] - 1s 6ms/step - loss: 0.1009 - val_loss: 0.1002\n",
      "Epoch 33/100\n",
      "235/235 [==============================] - 1s 6ms/step - loss: 0.1007 - val_loss: 0.1003\n",
      "Epoch 34/100\n",
      "235/235 [==============================] - 1s 6ms/step - loss: 0.1005 - val_loss: 0.0999\n",
      "Epoch 35/100\n",
      "235/235 [==============================] - 1s 6ms/step - loss: 0.1003 - val_loss: 0.0998\n",
      "Epoch 36/100\n",
      "235/235 [==============================] - 1s 6ms/step - loss: 0.1001 - val_loss: 0.0996\n",
      "Epoch 37/100\n",
      "235/235 [==============================] - 1s 6ms/step - loss: 0.0999 - val_loss: 0.0994\n",
      "Epoch 38/100\n",
      "235/235 [==============================] - 1s 6ms/step - loss: 0.0998 - val_loss: 0.0995\n",
      "Epoch 39/100\n",
      "235/235 [==============================] - 1s 6ms/step - loss: 0.0996 - val_loss: 0.0992\n",
      "Epoch 40/100\n",
      "235/235 [==============================] - 2s 7ms/step - loss: 0.0995 - val_loss: 0.0990\n",
      "Epoch 41/100\n",
      "235/235 [==============================] - 2s 8ms/step - loss: 0.0993 - val_loss: 0.0990\n",
      "Epoch 42/100\n",
      "235/235 [==============================] - 2s 7ms/step - loss: 0.0992 - val_loss: 0.0987\n",
      "Epoch 43/100\n",
      "235/235 [==============================] - 1s 6ms/step - loss: 0.0991 - val_loss: 0.0988\n",
      "Epoch 44/100\n",
      "235/235 [==============================] - 2s 7ms/step - loss: 0.0989 - val_loss: 0.0986\n",
      "Epoch 45/100\n",
      "235/235 [==============================] - 2s 9ms/step - loss: 0.0988 - val_loss: 0.0986\n",
      "Epoch 46/100\n",
      "235/235 [==============================] - 2s 6ms/step - loss: 0.0987 - val_loss: 0.0987\n",
      "Epoch 47/100\n",
      "235/235 [==============================] - 2s 7ms/step - loss: 0.0986 - val_loss: 0.0980\n",
      "Epoch 48/100\n",
      "235/235 [==============================] - 1s 6ms/step - loss: 0.0985 - val_loss: 0.0981\n",
      "Epoch 49/100\n",
      "235/235 [==============================] - 2s 6ms/step - loss: 0.0983 - val_loss: 0.0981\n",
      "Epoch 50/100\n",
      "235/235 [==============================] - 1s 6ms/step - loss: 0.0983 - val_loss: 0.0983\n",
      "Epoch 51/100\n",
      "235/235 [==============================] - 1s 6ms/step - loss: 0.0982 - val_loss: 0.0979\n",
      "Epoch 52/100\n",
      "235/235 [==============================] - 1s 6ms/step - loss: 0.0980 - val_loss: 0.0979\n",
      "Epoch 53/100\n",
      "235/235 [==============================] - 1s 6ms/step - loss: 0.0980 - val_loss: 0.0976\n",
      "Epoch 54/100\n",
      "235/235 [==============================] - 2s 7ms/step - loss: 0.0979 - val_loss: 0.0976\n",
      "Epoch 55/100\n",
      "235/235 [==============================] - 2s 7ms/step - loss: 0.0978 - val_loss: 0.0975\n",
      "Epoch 56/100\n",
      "235/235 [==============================] - 1s 6ms/step - loss: 0.0977 - val_loss: 0.0974\n",
      "Epoch 57/100\n",
      "235/235 [==============================] - 2s 6ms/step - loss: 0.0976 - val_loss: 0.0973\n",
      "Epoch 58/100\n",
      "235/235 [==============================] - 2s 7ms/step - loss: 0.0976 - val_loss: 0.0973\n",
      "Epoch 59/100\n",
      "235/235 [==============================] - 2s 7ms/step - loss: 0.0975 - val_loss: 0.0973\n",
      "Epoch 60/100\n",
      "235/235 [==============================] - 2s 7ms/step - loss: 0.0974 - val_loss: 0.0971\n",
      "Epoch 61/100\n",
      "235/235 [==============================] - 2s 7ms/step - loss: 0.0973 - val_loss: 0.0971\n",
      "Epoch 62/100\n",
      "235/235 [==============================] - 2s 8ms/step - loss: 0.0972 - val_loss: 0.0971\n",
      "Epoch 63/100\n",
      "235/235 [==============================] - 2s 7ms/step - loss: 0.0971 - val_loss: 0.0971\n",
      "Epoch 64/100\n",
      "235/235 [==============================] - 2s 7ms/step - loss: 0.0970 - val_loss: 0.0971\n",
      "Epoch 65/100\n",
      "235/235 [==============================] - 2s 7ms/step - loss: 0.0970 - val_loss: 0.0968\n",
      "Epoch 66/100\n",
      "235/235 [==============================] - 2s 7ms/step - loss: 0.0969 - val_loss: 0.0970\n",
      "Epoch 67/100\n",
      "235/235 [==============================] - 2s 7ms/step - loss: 0.0968 - val_loss: 0.0965\n",
      "Epoch 68/100\n",
      "235/235 [==============================] - 2s 7ms/step - loss: 0.0967 - val_loss: 0.0966\n",
      "Epoch 69/100\n",
      "235/235 [==============================] - 2s 6ms/step - loss: 0.0967 - val_loss: 0.0966\n",
      "Epoch 70/100\n",
      "235/235 [==============================] - 2s 7ms/step - loss: 0.0966 - val_loss: 0.0968\n",
      "Epoch 71/100\n",
      "235/235 [==============================] - 2s 7ms/step - loss: 0.0966 - val_loss: 0.0964\n",
      "Epoch 72/100\n",
      "235/235 [==============================] - 2s 9ms/step - loss: 0.0965 - val_loss: 0.0966\n",
      "Epoch 73/100\n",
      "235/235 [==============================] - 2s 10ms/step - loss: 0.0965 - val_loss: 0.0966\n",
      "Epoch 74/100\n",
      "235/235 [==============================] - 2s 8ms/step - loss: 0.0964 - val_loss: 0.0964\n",
      "Epoch 75/100\n",
      "235/235 [==============================] - 2s 8ms/step - loss: 0.0964 - val_loss: 0.0963\n",
      "Epoch 76/100\n",
      "235/235 [==============================] - 2s 8ms/step - loss: 0.0963 - val_loss: 0.0963\n",
      "Epoch 77/100\n",
      "235/235 [==============================] - 2s 7ms/step - loss: 0.0962 - val_loss: 0.0963\n",
      "Epoch 78/100\n",
      "235/235 [==============================] - 2s 7ms/step - loss: 0.0961 - val_loss: 0.0965\n",
      "Epoch 79/100\n",
      "235/235 [==============================] - 2s 7ms/step - loss: 0.0961 - val_loss: 0.0963\n",
      "Epoch 80/100\n",
      "235/235 [==============================] - 2s 7ms/step - loss: 0.0960 - val_loss: 0.0961\n",
      "Epoch 81/100\n",
      "235/235 [==============================] - 2s 7ms/step - loss: 0.0960 - val_loss: 0.0961\n",
      "Epoch 82/100\n",
      "235/235 [==============================] - 2s 8ms/step - loss: 0.0959 - val_loss: 0.0958\n",
      "Epoch 83/100\n",
      "235/235 [==============================] - 2s 7ms/step - loss: 0.0959 - val_loss: 0.0959\n",
      "Epoch 84/100\n",
      "235/235 [==============================] - 2s 6ms/step - loss: 0.0958 - val_loss: 0.0960\n",
      "Epoch 85/100\n",
      "235/235 [==============================] - 2s 7ms/step - loss: 0.0958 - val_loss: 0.0960\n",
      "Epoch 86/100\n",
      "235/235 [==============================] - 2s 7ms/step - loss: 0.0957 - val_loss: 0.0960\n",
      "Epoch 87/100\n",
      "235/235 [==============================] - 2s 9ms/step - loss: 0.0957 - val_loss: 0.0957\n",
      "Epoch 88/100\n",
      "235/235 [==============================] - 2s 7ms/step - loss: 0.0956 - val_loss: 0.0958\n",
      "Epoch 89/100\n",
      "235/235 [==============================] - 2s 7ms/step - loss: 0.0956 - val_loss: 0.0958\n",
      "Epoch 90/100\n",
      "235/235 [==============================] - 2s 7ms/step - loss: 0.0956 - val_loss: 0.0959\n",
      "Epoch 91/100\n",
      "235/235 [==============================] - 2s 7ms/step - loss: 0.0955 - val_loss: 0.0957\n",
      "Epoch 92/100\n",
      "235/235 [==============================] - 2s 7ms/step - loss: 0.0954 - val_loss: 0.0955\n",
      "Epoch 93/100\n",
      "235/235 [==============================] - 2s 7ms/step - loss: 0.0954 - val_loss: 0.0956\n",
      "Epoch 94/100\n",
      "235/235 [==============================] - 2s 7ms/step - loss: 0.0954 - val_loss: 0.0954\n",
      "Epoch 95/100\n",
      "235/235 [==============================] - 2s 8ms/step - loss: 0.0953 - val_loss: 0.0956\n",
      "Epoch 96/100\n",
      "235/235 [==============================] - 2s 8ms/step - loss: 0.0953 - val_loss: 0.0955\n",
      "Epoch 97/100\n",
      "235/235 [==============================] - 2s 9ms/step - loss: 0.0952 - val_loss: 0.0954\n",
      "Epoch 98/100\n",
      "235/235 [==============================] - 2s 8ms/step - loss: 0.0952 - val_loss: 0.0953\n",
      "Epoch 99/100\n",
      "235/235 [==============================] - 2s 7ms/step - loss: 0.0952 - val_loss: 0.0954\n",
      "Epoch 100/100\n",
      "235/235 [==============================] - 2s 7ms/step - loss: 0.0951 - val_loss: 0.0954\n"
     ]
    },
    {
     "data": {
      "text/plain": [
       "<keras.src.callbacks.History at 0x20400039710>"
      ]
     },
     "execution_count": 7,
     "metadata": {},
     "output_type": "execute_result"
    }
   ],
   "source": [
    "autoencoder.fit(x_train,x_train,\n",
    "                epochs=100,\n",
    "                batch_size=256,\n",
    "                shuffle=True,\n",
    "                validation_data=(x_test,x_test))\n"
   ]
  },
  {
   "cell_type": "code",
   "execution_count": 8,
   "metadata": {},
   "outputs": [
    {
     "name": "stdout",
     "output_type": "stream",
     "text": [
      "Model: \"model_1\"\n",
      "_________________________________________________________________\n",
      " Layer (type)                Output Shape              Param #   \n",
      "=================================================================\n",
      " input_1 (InputLayer)        [(None, 784)]             0         \n",
      "                                                                 \n",
      " dense (Dense)               (None, 128)               100480    \n",
      "                                                                 \n",
      " dense_1 (Dense)             (None, 64)                8256      \n",
      "                                                                 \n",
      " dense_2 (Dense)             (None, 16)                1040      \n",
      "                                                                 \n",
      "=================================================================\n",
      "Total params: 109776 (428.81 KB)\n",
      "Trainable params: 109776 (428.81 KB)\n",
      "Non-trainable params: 0 (0.00 Byte)\n",
      "_________________________________________________________________\n"
     ]
    }
   ],
   "source": [
    "encoder.summary()"
   ]
  },
  {
   "cell_type": "code",
   "execution_count": 9,
   "metadata": {},
   "outputs": [
    {
     "name": "stdout",
     "output_type": "stream",
     "text": [
      "313/313 [==============================] - 1s 2ms/step\n",
      "313/313 [==============================] - 0s 1ms/step\n"
     ]
    },
    {
     "data": {
      "image/png": "[encoded data removed]",
      "text/plain": [
       "<Figure size 640x480 with 10 Axes>"
      ]
     },
     "metadata": {},
     "output_type": "display_data"
    },
    {
     "data": {
      "image/png": "[encoded data removed]",
      "text/plain": [
       "<Figure size 640x480 with 10 Axes>"
      ]
     },
     "metadata": {},
     "output_type": "display_data"
    }
   ],
   "source": [
    "encoder_imgs=encoder.predict(x_test)\n",
    "decoded_imgs=decoder.predict(encoder_imgs)\n",
    "\n",
    "n=10\n",
    "fig, axs = plt.subplots(2, 5)\n",
    "for i in range(n):\n",
    "    fil=i//5\n",
    "    col=i%5\n",
    "    axs[fil,col].imshow(x_test[i].reshape(28,28))\n",
    "    axs[fil,col].get_xaxis().set_visible(False)\n",
    "    axs[fil,col].get_yaxis().set_visible(False)\n",
    "\n",
    "\n",
    "n=10\n",
    "fig, axs = plt.subplots(2, 5)\n",
    "for i in range(n):\n",
    "    fil=i//5\n",
    "    col=i%5\n",
    "    axs[fil,col].imshow(encoder_imgs[i].reshape(4,4))\n",
    "    axs[fil,col].get_xaxis().set_visible(False)\n",
    "    axs[fil,col].get_yaxis().set_visible(False)"
   ]
  },
  {
   "cell_type": "code",
   "execution_count": 10,
   "metadata": {},
   "outputs": [
    {
     "data": {
      "image/png": "[encoded data removed]",
      "text/plain": [
       "<Figure size 640x480 with 10 Axes>"
      ]
     },
     "metadata": {},
     "output_type": "display_data"
    }
   ],
   "source": [
    "n=10\n",
    "fig, axs = plt.subplots(2, 5)\n",
    "for i in range(n):\n",
    "    fil=i//5\n",
    "    col=i%5\n",
    "    axs[fil,col].imshow(decoded_imgs[i].reshape(28,28))\n",
    "    axs[fil,col].get_xaxis().set_visible(False)\n",
    "    axs[fil,col].get_yaxis().set_visible(False)"
   ]
  },
  {
   "cell_type": "code",
   "execution_count": null,
   "metadata": {},
   "outputs": [],
   "source": []
  }
 ],
 "metadata": {
  "kernelspec": {
   "display_name": "base",
   "language": "python",
   "name": "python3"
  },
  "language_info": {
   "codemirror_mode": {
    "name": "ipython",
    "version": 3
   },
   "file_extension": ".py",
   "mimetype": "text/x-python",
   "name": "python",
   "nbconvert_exporter": "python",
   "pygments_lexer": "ipython3",
   "version": "3.11.5"
  }
 },
 "nbformat": 4,
 "nbformat_minor": 2
}
